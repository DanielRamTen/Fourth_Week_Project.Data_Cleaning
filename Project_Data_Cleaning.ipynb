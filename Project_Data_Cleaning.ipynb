{
 "cells": [
  {
   "cell_type": "code",
   "execution_count": 1,
   "id": "b1e8827c",
   "metadata": {},
   "outputs": [],
   "source": [
    "import re\n",
    "\n",
    "import pandas as pd\n",
    "import numpy as np\n",
    "\n",
    "import requests\n",
    "from bs4 import BeautifulSoup as bs\n",
    "from lxml import html\n"
   ]
  },
  {
   "cell_type": "code",
   "execution_count": 2,
   "id": "dfc5d712",
   "metadata": {},
   "outputs": [],
   "source": [
    "table= pd.read_csv('./Dirty_data_survey.csv', delimiter=',')\n",
    "#table.head(5)"
   ]
  },
  {
   "cell_type": "code",
   "execution_count": 3,
   "id": "10167c44",
   "metadata": {},
   "outputs": [
    {
     "name": "stdout",
     "output_type": "stream",
     "text": [
      "<class 'pandas.core.frame.DataFrame'>\n",
      "RangeIndex: 27772 entries, 0 to 27771\n",
      "Data columns (total 18 columns):\n",
      " #   Column                                                                                                                                                                                                                                Non-Null Count  Dtype  \n",
      "---  ------                                                                                                                                                                                                                                --------------  -----  \n",
      " 0   Timestamp                                                                                                                                                                                                                             27772 non-null  object \n",
      " 1   How old are you?                                                                                                                                                                                                                      27772 non-null  object \n",
      " 2   What industry do you work in?                                                                                                                                                                                                         27702 non-null  object \n",
      " 3   Job title                                                                                                                                                                                                                             27772 non-null  object \n",
      " 4   If your job title needs additional context, please clarify here:                                                                                                                                                                      7186 non-null   object \n",
      " 5   What is your annual salary? (You'll indicate the currency in a later question. If you are part-time or hourly, please enter an annualized equivalent -- what you would earn if you worked the job 40 hours a week, 52 weeks a year.)  27772 non-null  object \n",
      " 6   How much additional monetary compensation do you get, if any (for example, bonuses or overtime in an average year)? Please only include monetary compensation here, not the value of benefits.                                        20584 non-null  float64\n",
      " 7   Please indicate the currency                                                                                                                                                                                                          27772 non-null  object \n",
      " 8   If \"Other,\" please indicate the currency here:                                                                                                                                                                                        187 non-null    object \n",
      " 9   If your income needs additional context, please provide it here:                                                                                                                                                                      3020 non-null   object \n",
      " 10  What country do you work in?                                                                                                                                                                                                          27772 non-null  object \n",
      " 11  If you're in the U.S., what state do you work in?                                                                                                                                                                                     22835 non-null  object \n",
      " 12  What city do you work in?                                                                                                                                                                                                             27697 non-null  object \n",
      " 13  How many years of professional work experience do you have overall?                                                                                                                                                                   27772 non-null  object \n",
      " 14  How many years of professional work experience do you have in your field?                                                                                                                                                             27772 non-null  object \n",
      " 15  What is your highest level of education completed?                                                                                                                                                                                    27563 non-null  object \n",
      " 16  What is your gender?                                                                                                                                                                                                                  27607 non-null  object \n",
      " 17  What is your race? (Choose all that apply.)                                                                                                                                                                                           27608 non-null  object \n",
      "dtypes: float64(1), object(17)\n",
      "memory usage: 3.8+ MB\n"
     ]
    }
   ],
   "source": [
    "table.info()"
   ]
  },
  {
   "cell_type": "code",
   "execution_count": 3,
   "id": "f4908788",
   "metadata": {},
   "outputs": [],
   "source": [
    "# first reviewing data: search how many columns had a great quantity of nulls\n",
    "the_nulls= table.isnull().sum()\n",
    "#the_nulls"
   ]
  },
  {
   "cell_type": "code",
   "execution_count": 4,
   "id": "c18f7564",
   "metadata": {},
   "outputs": [],
   "source": [
    "#Total entries= 27,772 (100%)\n",
    "the_nulls = table.isnull().mean()\n",
    "the_nulls = the_nulls[the_nulls > 0].sort_values()*100 \n",
    "#the_nulls\n",
    "\n",
    "\n",
    "# first six columns has less than 20% of null values, so i decide to drop the rest."
   ]
  },
  {
   "cell_type": "code",
   "execution_count": 5,
   "id": "350c1dd1",
   "metadata": {},
   "outputs": [],
   "source": [
    "#Droping useless columns, columns upon 20% of null values\n",
    "drop_list=list(the_nulls[the_nulls >= 20].index)\n",
    "table.drop(drop_list, axis=1, inplace=True)\n"
   ]
  },
  {
   "cell_type": "code",
   "execution_count": null,
   "id": "c0f45346",
   "metadata": {},
   "outputs": [],
   "source": [
    "table.head(5)"
   ]
  },
  {
   "cell_type": "code",
   "execution_count": 6,
   "id": "e8cebeb8",
   "metadata": {},
   "outputs": [],
   "source": [
    "#Beforte to manipulate data...changing column names:\n",
    "table.rename(columns= {'Timestamp': 'Date',\n",
    "                        'How old are you?': 'Age',\n",
    "                        'What industry do you work in?': 'Workplace',\n",
    "                        'Job title': 'Ocuppation',\n",
    "\"What is your annual salary? (You'll indicate the currency in a later question. If you are part-time or hourly, please enter an annualized equivalent -- what you would earn if you worked the job 40 hours a week, 52 weeks a year.)\": 'Annual_salary',\n",
    "                        'Please indicate the currency': 'Payment_currency',\n",
    "                        'What country do you work in?': 'Work_country',\n",
    "                        \"If you're in the U.S., what state do you work in?\": 'American_work_state',\n",
    "                        'What city do you work in?': 'Workplace_city',\n",
    "                        'How many years of professional work experience do you have overall?': 'Overall_experience_years',\n",
    "                        'How many years of professional work experience do you have in your field?': 'Field_experience_years',\n",
    "                        'What is your highest level of education completed?': 'Educational_level',\n",
    "                        'What is your gender?': 'Gender',\n",
    "                        'What is your race? (Choose all that apply.)': 'Race/ethnicity'}, inplace=True)\n",
    "              \n",
    "              \n",
    "              "
   ]
  },
  {
   "cell_type": "code",
   "execution_count": 14,
   "id": "b5201b10",
   "metadata": {},
   "outputs": [
    {
     "data": {
      "text/html": [
       "<div>\n",
       "<style scoped>\n",
       "    .dataframe tbody tr th:only-of-type {\n",
       "        vertical-align: middle;\n",
       "    }\n",
       "\n",
       "    .dataframe tbody tr th {\n",
       "        vertical-align: top;\n",
       "    }\n",
       "\n",
       "    .dataframe thead th {\n",
       "        text-align: right;\n",
       "    }\n",
       "</style>\n",
       "<table border=\"1\" class=\"dataframe\">\n",
       "  <thead>\n",
       "    <tr style=\"text-align: right;\">\n",
       "      <th></th>\n",
       "      <th>Date</th>\n",
       "      <th>Age</th>\n",
       "      <th>Workplace</th>\n",
       "      <th>Ocuppation</th>\n",
       "      <th>Annual_salary</th>\n",
       "      <th>Payment_currency</th>\n",
       "      <th>Work_country</th>\n",
       "      <th>American_work_state</th>\n",
       "      <th>Workplace_city</th>\n",
       "      <th>Overall_experience_years</th>\n",
       "      <th>Field_experience_years</th>\n",
       "      <th>Educational_level</th>\n",
       "      <th>Gender</th>\n",
       "      <th>Race/ethnicity</th>\n",
       "    </tr>\n",
       "  </thead>\n",
       "  <tbody>\n",
       "    <tr>\n",
       "      <th>0</th>\n",
       "      <td>4/27/2021 11:02:10</td>\n",
       "      <td>25-34</td>\n",
       "      <td>Education (Higher Education)</td>\n",
       "      <td>Research and Instruction Librarian</td>\n",
       "      <td>55,000</td>\n",
       "      <td>USD</td>\n",
       "      <td>United States</td>\n",
       "      <td>Massachusetts</td>\n",
       "      <td>Boston</td>\n",
       "      <td>5-7 years</td>\n",
       "      <td>5-7 years</td>\n",
       "      <td>Master's degree</td>\n",
       "      <td>Woman</td>\n",
       "      <td>White</td>\n",
       "    </tr>\n",
       "    <tr>\n",
       "      <th>1</th>\n",
       "      <td>4/27/2021 11:02:22</td>\n",
       "      <td>25-34</td>\n",
       "      <td>Computing or Tech</td>\n",
       "      <td>Change &amp; Internal Communications Manager</td>\n",
       "      <td>54,600</td>\n",
       "      <td>GBP</td>\n",
       "      <td>United Kingdom</td>\n",
       "      <td>NaN</td>\n",
       "      <td>Cambridge</td>\n",
       "      <td>8 - 10 years</td>\n",
       "      <td>5-7 years</td>\n",
       "      <td>College degree</td>\n",
       "      <td>Non-binary</td>\n",
       "      <td>White</td>\n",
       "    </tr>\n",
       "    <tr>\n",
       "      <th>2</th>\n",
       "      <td>4/27/2021 11:02:38</td>\n",
       "      <td>25-34</td>\n",
       "      <td>Accounting, Banking &amp; Finance</td>\n",
       "      <td>Marketing Specialist</td>\n",
       "      <td>34,000</td>\n",
       "      <td>USD</td>\n",
       "      <td>US</td>\n",
       "      <td>Tennessee</td>\n",
       "      <td>Chattanooga</td>\n",
       "      <td>2 - 4 years</td>\n",
       "      <td>2 - 4 years</td>\n",
       "      <td>College degree</td>\n",
       "      <td>Woman</td>\n",
       "      <td>White</td>\n",
       "    </tr>\n",
       "  </tbody>\n",
       "</table>\n",
       "</div>"
      ],
      "text/plain": [
       "                 Date    Age                      Workplace  \\\n",
       "0  4/27/2021 11:02:10  25-34   Education (Higher Education)   \n",
       "1  4/27/2021 11:02:22  25-34              Computing or Tech   \n",
       "2  4/27/2021 11:02:38  25-34  Accounting, Banking & Finance   \n",
       "\n",
       "                                 Ocuppation Annual_salary Payment_currency  \\\n",
       "0        Research and Instruction Librarian        55,000              USD   \n",
       "1  Change & Internal Communications Manager        54,600              GBP   \n",
       "2                      Marketing Specialist        34,000              USD   \n",
       "\n",
       "     Work_country American_work_state Workplace_city Overall_experience_years  \\\n",
       "0   United States       Massachusetts         Boston                5-7 years   \n",
       "1  United Kingdom                 NaN      Cambridge             8 - 10 years   \n",
       "2              US           Tennessee    Chattanooga              2 - 4 years   \n",
       "\n",
       "  Field_experience_years Educational_level      Gender Race/ethnicity  \n",
       "0              5-7 years   Master's degree       Woman          White  \n",
       "1              5-7 years    College degree  Non-binary          White  \n",
       "2            2 - 4 years    College degree       Woman          White  "
      ]
     },
     "execution_count": 14,
     "metadata": {},
     "output_type": "execute_result"
    }
   ],
   "source": [
    "table.head(3)"
   ]
  },
  {
   "cell_type": "markdown",
   "id": "d5e34630",
   "metadata": {},
   "source": [
    "## Data manipulation for each columns \n",
    "### Date"
   ]
  },
  {
   "cell_type": "code",
   "execution_count": 7,
   "id": "bf665f32",
   "metadata": {},
   "outputs": [],
   "source": [
    "table['Hour'] = pd.to_datetime(table['Date']).dt.hour\n",
    "table['Date'] = pd.to_datetime(table['Date']).dt.date"
   ]
  },
  {
   "cell_type": "markdown",
   "id": "6f5a9ebc",
   "metadata": {},
   "source": [
    "### Age"
   ]
  },
  {
   "cell_type": "code",
   "execution_count": 8,
   "id": "07c22d4f",
   "metadata": {},
   "outputs": [
    {
     "data": {
      "text/plain": [
       "['25-34', '45-54', '35-44', '18-24', '65 or over', '55-64', 'under 18']"
      ]
     },
     "execution_count": 8,
     "metadata": {},
     "output_type": "execute_result"
    }
   ],
   "source": [
    "#No changes to commit\n",
    "age= table['Age'].unique().tolist()\n",
    "age"
   ]
  },
  {
   "cell_type": "code",
   "execution_count": 9,
   "id": "13c3e54e",
   "metadata": {},
   "outputs": [
    {
     "data": {
      "text/plain": [
       "0"
      ]
     },
     "execution_count": 9,
     "metadata": {},
     "output_type": "execute_result"
    }
   ],
   "source": [
    "table['Age'].isnull().sum()"
   ]
  },
  {
   "cell_type": "markdown",
   "id": "45836baa",
   "metadata": {},
   "source": [
    "### Workplace"
   ]
  },
  {
   "cell_type": "code",
   "execution_count": 10,
   "id": "92aa001b",
   "metadata": {},
   "outputs": [],
   "source": [
    "table['Workplace'] = table['Workplace'].apply(lambda x: re.sub(r'(\\(\\w.+\\))', '', str(x)))\n",
    "table['Workplace'] = table['Workplace'].apply(lambda x: re.sub('-.+\\w.+','',str(x)))\n",
    "table['Workplace'] = table['Workplace'].apply(lambda x: re.sub('(\\sor.+)','',str(x)))\n",
    "table['Workplace'] = table['Workplace'].apply(lambda x: re.sub('\\s/\\s','/',str(x)))\n",
    "table['Workplace'] = table['Workplace'].apply(lambda x: re.sub('[\"\"]','',str(x)))\n",
    "table['Workplace'] = table['Workplace'].apply(lambda x: re.sub('(:.+)','',str(x)))\n"
   ]
  },
  {
   "cell_type": "code",
   "execution_count": 11,
   "id": "b7664a31",
   "metadata": {},
   "outputs": [],
   "source": [
    "\n",
    "table['Workplace'].replace('My company sells & services various types of printers, mostly kyocera.','Sales', inplace=True)\n",
    "table['Workplace'].replace('I work at a property tax management company. not sure where this fits in. consulting maybe?', 'Financial', inplace=True)\n",
    "table['Workplace'].replace('Language services company, unsure the broad category to use. our clients are branding agencies, and their clients are frequently  pharmaceutical companies.',\n",
    "                          'Language services', inplace=True)\n",
    "table['Workplace'].replace('I work in the finance function of a large global conglomerate', 'Administrative', inplace=True)\n",
    "table['Workplace'].replace('Digital marketing within a book publishing company ', 'Publishing',inplace=True)\n",
    "table['Workplace'].replace('I work for indeed.com','Web Services', inplace=True)"
   ]
  },
  {
   "cell_type": "code",
   "execution_count": 13,
   "id": "17719e11",
   "metadata": {},
   "outputs": [],
   "source": [
    "table['Workplace'] = table.Workplace.str.strip()\n",
    "table['Workplace'] = table.Workplace.str.capitalize()\n",
    "#workplaces= table['Workplace'].unique().tolist()"
   ]
  },
  {
   "cell_type": "markdown",
   "id": "f042cb8b",
   "metadata": {},
   "source": [
    "### Occupation \n",
    "\n",
    " Because the diversity of the jobs, no changes has done."
   ]
  },
  {
   "cell_type": "markdown",
   "id": "5ed3d335",
   "metadata": {},
   "source": [
    "### Annual Salary"
   ]
  },
  {
   "cell_type": "code",
   "execution_count": 14,
   "id": "aa68beb6",
   "metadata": {},
   "outputs": [],
   "source": [
    "for i in table['Annual_salary']:\n",
    "    if len(i)<4:\n",
    "        table['Annual_salary'].replace(i, i+',000', inplace=True) \n",
    "\n",
    "table['Annual_salary'] = table['Annual_salary'].apply(lambda x: re.sub('(,)','',str(x))) \n",
    "#then i realice that is better to take off the comma \n"
   ]
  },
  {
   "cell_type": "markdown",
   "id": "47788c88",
   "metadata": {},
   "source": [
    "### Payment currency"
   ]
  },
  {
   "cell_type": "code",
   "execution_count": 15,
   "id": "486dedb4",
   "metadata": {},
   "outputs": [
    {
     "data": {
      "text/plain": [
       "0"
      ]
     },
     "execution_count": 15,
     "metadata": {},
     "output_type": "execute_result"
    }
   ],
   "source": [
    "table['Payment_currency'].isnull().sum()"
   ]
  },
  {
   "cell_type": "code",
   "execution_count": 434,
   "id": "12c2d101",
   "metadata": {},
   "outputs": [
    {
     "data": {
      "text/plain": [
       "['USD',\n",
       " 'GBP',\n",
       " 'CAD',\n",
       " 'EUR',\n",
       " 'AUD/NZD',\n",
       " 'Other',\n",
       " 'CHF',\n",
       " 'ZAR',\n",
       " 'SEK',\n",
       " 'HKD',\n",
       " 'JPY']"
      ]
     },
     "execution_count": 434,
     "metadata": {},
     "output_type": "execute_result"
    }
   ],
   "source": [
    "coin= table['Payment_currency'].unique().tolist()\n",
    "coin"
   ]
  },
  {
   "cell_type": "code",
   "execution_count": 408,
   "id": "d2d55050",
   "metadata": {},
   "outputs": [],
   "source": [
    "exc= table.loc[table.Payment_currency=='Other'][['Workplace_city', 'Work_country']]"
   ]
  },
  {
   "cell_type": "code",
   "execution_count": 411,
   "id": "6951608b",
   "metadata": {
    "collapsed": true
   },
   "outputs": [
    {
     "data": {
      "text/plain": [
       "['Pune',\n",
       " 'City of buenos aires',\n",
       " 'Kuala lumpur',\n",
       " 'Geneva',\n",
       " 'Oslo',\n",
       " 'Portland',\n",
       " 'Rio de janeiro',\n",
       " 'Stockholm',\n",
       " 'Copenhagen',\n",
       " 'Budapest',\n",
       " 'San fernando',\n",
       " 'Bangalore',\n",
       " 'Curitiba',\n",
       " 'Mexico city',\n",
       " 'Prague',\n",
       " 'Glasgow',\n",
       " 'Major',\n",
       " 'London',\n",
       " '..',\n",
       " 'Pietermaritzburg',\n",
       " 'Seattle',\n",
       " 'Batangas',\n",
       " 'Undisclosed',\n",
       " 'Olomouc',\n",
       " 'İstanbul',\n",
       " 'Denmark',\n",
       " 'Beijing',\n",
       " 'Hod hasharon',\n",
       " 'Berkeley, ca',\n",
       " 'Franklin',\n",
       " 'Jerusalem',\n",
       " 'Jianshui',\n",
       " 'Perth',\n",
       " 'Rockford',\n",
       " 'Taipei',\n",
       " 'Taguig city',\n",
       " 'Sao paulo',\n",
       " 'New delhi',\n",
       " 'Singapore',\n",
       " 'Changwon',\n",
       " 'Bangkok',\n",
       " 'Washington, dc',\n",
       " 'Jakarta',\n",
       " 'Christchurch',\n",
       " 'Hertzliya',\n",
       " 'Haikou hainan',\n",
       " 'Sydney',\n",
       " 'Chomutov',\n",
       " 'Colombo',\n",
       " 'Kraków',\n",
       " 'Taguig',\n",
       " 'Mackay',\n",
       " 'Makati',\n",
       " 'Brooklyn',\n",
       " 'São paulo',\n",
       " 'San nicolás de los arroyos',\n",
       " 'Buenos aires',\n",
       " 'Tel aviv',\n",
       " 'Tijuana',\n",
       " 'Metro manila',\n",
       " 'Belo horizonte',\n",
       " 'Warsaw',\n",
       " 'Brisbane',\n",
       " 'Seoul',\n",
       " 'Riyadh',\n",
       " 'Mumbai',\n",
       " 'Tawau',\n",
       " 'Georgetown',\n",
       " 'Elko',\n",
       " 'Kl',\n",
       " 'Brno',\n",
       " 'Katowice',\n",
       " 'Bandung',\n",
       " 'Makati city',\n",
       " 'Chicago',\n",
       " 'Shanghai',\n",
       " 'Petaling jaya',\n",
       " 'Houston',\n",
       " 'Shah alam, selangor',\n",
       " 'Collinsville',\n",
       " 'Toronto',\n",
       " '-',\n",
       " 'Monterrey',\n",
       " 'Dublin',\n",
       " 'Auckland',\n",
       " 'Billund',\n",
       " 'Oakland',\n",
       " 'Bahía blanca, buenos aires, province argentina',\n",
       " 'Songkhla',\n",
       " 'Brisbane, queensland',\n",
       " 'Mar del plata',\n",
       " 'Pula',\n",
       " 'Poznań']"
      ]
     },
     "execution_count": 411,
     "metadata": {},
     "output_type": "execute_result"
    }
   ],
   "source": [
    "exc.Workplace_city.unique().tolist()"
   ]
  },
  {
   "cell_type": "code",
   "execution_count": 420,
   "id": "637400d0",
   "metadata": {},
   "outputs": [],
   "source": [
    "exchange= {'MXN': ['Mexico City', 'Tijuana', 'Monterrey'],\n",
    "           'INR': ['Pune', 'Bangalore','New Delhi', 'Mumbai'],\n",
    "           'ARS': ['City of Buenos Aires'],\n",
    "           'MYR': ['Kuala Lumpur', 'Tawau', 'Georgetown', 'KL'],\n",
    "           'CHF': ['Geneva'],\n",
    "           'NOK': ['Oslo', 'Major'],\n",
    "           'USD': ['Portland', 'Seattle','Berkeley, CA','Franklin','Rockford', 'Washington, DC', 'Elko'],\n",
    "           'BRL': ['RIo de Janeiro', 'Curitiba', 'Rio de Janeiro', 'Sao Paulo'],\n",
    "           'SEK': ['Stockholm'],\n",
    "           'DKK': ['Copenhagen', 'Denmark'],\n",
    "           'HUF': ['Budapest'],\n",
    "           'TTD': ['San Fernando'],\n",
    "           'CZK': ['Prague', 'olomouc', 'Brno'],\n",
    "           'GBP': ['Glasgow', 'London'],\n",
    "           'BDT': ['..'],\n",
    "           'ZAR': ['Pietermaritzburg'],\n",
    "           'PHP': ['Batangas', 'Taguig City'],\n",
    "           'PLN': ['undisclosed'],\n",
    "           'TRY': ['İstanbul'],\n",
    "           'CYN': ['Beijing', 'Jianshui'],\n",
    "           'ILS': ['Hod Hasharon', 'Jerusalem', 'Hertzliya'],\n",
    "           'AUD': ['Perth'],\n",
    "           'TWD': ['Taipei'],\n",
    "           'SGD': ['Singapore'],\n",
    "           'KRW': ['Changwon'],\n",
    "           'THB': ['Bangkok'],\n",
    "           'IDR': ['Jakarta'],\n",
    "           'NZD': ['Christchurch'],\n",
    "           'SAR': ['Riyadh']}\n",
    "           "
   ]
  },
  {
   "cell_type": "code",
   "execution_count": 438,
   "id": "eb118e1f",
   "metadata": {},
   "outputs": [],
   "source": [
    "for value, citi in table[['Payment_currency', 'Workplace_city']].values[0:10000]:\n",
    "    if value== 'Other':\n",
    "        for coin,cities in exchange.items():\n",
    "            for city in cities:\n",
    "                if citi==city:\n",
    "                    table.loc[table.Workplace_city == city, 'Payment_currency']= coin\n",
    "                else:\n",
    "                    pass\n",
    "            \n",
    "       \n",
    "    "
   ]
  },
  {
   "cell_type": "code",
   "execution_count": 439,
   "id": "99a2a699",
   "metadata": {
    "collapsed": true
   },
   "outputs": [
    {
     "data": {
      "text/plain": [
       "['USD',\n",
       " 'GBP',\n",
       " 'CAD',\n",
       " 'EUR',\n",
       " 'AUD',\n",
       " 'INR',\n",
       " 'Other',\n",
       " 'DKK',\n",
       " 'CHF',\n",
       " 'AUD/NZD',\n",
       " 'ZAR',\n",
       " 'SEK',\n",
       " 'HKD',\n",
       " 'NOK',\n",
       " 'HUF',\n",
       " 'BRL',\n",
       " 'CZK',\n",
       " 'BDT',\n",
       " 'PHP',\n",
       " 'TRY',\n",
       " 'CYN',\n",
       " 'ILS',\n",
       " 'JPY']"
      ]
     },
     "execution_count": 439,
     "metadata": {},
     "output_type": "execute_result"
    }
   ],
   "source": [
    "coin= table['Payment_currency'].unique().tolist()\n",
    "coin"
   ]
  },
  {
   "cell_type": "code",
   "execution_count": 27,
   "id": "a5725699",
   "metadata": {
    "collapsed": true
   },
   "outputs": [
    {
     "name": "stdout",
     "output_type": "stream",
     "text": [
      "55,000\n",
      "69,614.17681\n",
      "34,000\n",
      "62,000\n",
      "60,000\n",
      "62,000\n",
      "33,000\n",
      "50,000\n",
      "112,000\n",
      "45,000\n",
      "47,500\n",
      "62,000\n",
      "100,000\n",
      "52,000\n",
      "25,097.11407\n",
      "30,599.63816\n",
      "85,000\n",
      "59,000\n",
      "98,000\n",
      "54,000\n",
      "74,000\n",
      "50,000\n",
      "49,409.94332\n",
      "96,000\n",
      "44,500\n",
      "60,000\n",
      "62,000\n",
      "48,000\n",
      "140,000\n",
      "80,000\n",
      "39,000\n",
      "125,000\n",
      "230,000\n",
      "110,000\n",
      "50,000\n",
      "68,000\n",
      "41,000\n",
      "76,000\n",
      "78,000\n",
      "37,000\n",
      "100,000\n",
      "44,624.47232\n",
      "65,000\n",
      "187,500\n",
      "110,000\n",
      "66,625\n",
      "144,600\n",
      "200,850\n",
      "94,114.17775\n",
      "76,467.76942\n",
      "96,000\n",
      "53,000\n",
      "95,000\n",
      "72,000\n",
      "40,782.81036\n",
      "106,000\n",
      "115,000\n",
      "100,500\n",
      "33,200\n",
      "66,299.21601\n",
      "52,000\n",
      "61,958.50035\n",
      "104,000\n",
      "58,821.36109\n",
      "52,000\n",
      "70,000\n",
      "84,000\n",
      "53,000\n",
      "34,000\n",
      "38,000\n",
      "87,000\n",
      "122,000\n",
      "57,374.32155\n",
      "45,000\n",
      "88,000\n",
      "71,000\n",
      "71,000\n",
      "75,000\n",
      "80,000\n",
      "125,000\n",
      "65,000\n",
      "45,899.45724\n",
      "55,000\n",
      "90,000\n",
      "105,000\n",
      "47,057.08888\n",
      "65,000\n",
      "85,000\n",
      "39,520\n",
      "90,192.75368\n",
      "76,000\n",
      "180,000\n",
      "90,000\n",
      "24,607.20902\n",
      "65,000\n",
      "98,166\n",
      "63,500\n",
      "58,000\n",
      "47,700\n",
      "87,000\n",
      "37,645.6711\n",
      "39,635\n",
      "53,000\n",
      "47,255\n",
      "196,000\n",
      "34,361\n",
      "150,000\n",
      "75,000\n",
      "20,000\n",
      "107,220\n",
      "61,174.21554\n",
      "95,000\n",
      "42,000\n",
      "100,000\n",
      "63,749.24617\n",
      "119,000\n",
      "84,149.00494\n",
      "64,498.58264\n",
      "75,000\n",
      "145,000\n",
      "74,507.05739\n",
      "48,000\n",
      "75,000\n",
      "42,000\n",
      "54,000\n",
      "72,154.20294\n",
      "64,858.48305\n",
      "60,000\n",
      "101,500\n",
      "36,883\n",
      "85,000\n",
      "62,000\n",
      "130,000\n",
      "55,000\n",
      "59,015\n",
      "71,000\n",
      "53,000\n",
      "63,000\n",
      "95,000\n"
     ]
    }
   ],
   "source": [
    "# Here is the code to take from a currency calculator the excange but for 27_000 values it will take 7 hours and\n",
    "# for some reason it stops in the value 139. For this reason i cannot append the annual salary in dollars\n",
    "usd_salary=[]\n",
    "try:\n",
    "    for i,j in table[['Annual_salary','Payment_currency',]].values:\n",
    "        if j!= 'Other':\n",
    "            URL= 'https://www.calculator.net/currency-calculator.html?eamount={total}&efrom={currency}&eto=USD&ccmajorccsettingbox=1&type=1&x=68&y=23'.format(total= i ,currency= j)\n",
    "            soup = bs(requests.get(URL).content, 'lxml')\n",
    "            select=soup.select('p font b')\n",
    "            total= select[0].text\n",
    "            usd_salary.append(total)\n",
    "            print (total)\n",
    "        else:\n",
    "            usd_salary.append(0)\n",
    "\n",
    "except:\n",
    "    pass\n",
    "\n",
    "#total['Annual_Salary_USD']=usd_salary"
   ]
  },
  {
   "cell_type": "code",
   "execution_count": 28,
   "id": "d176a261",
   "metadata": {},
   "outputs": [
    {
     "data": {
      "text/plain": [
       "139"
      ]
     },
     "execution_count": 28,
     "metadata": {},
     "output_type": "execute_result"
    }
   ],
   "source": [
    "len(usd_salary)"
   ]
  },
  {
   "cell_type": "markdown",
   "id": "470a13da",
   "metadata": {},
   "source": [
    "### Work_country"
   ]
  },
  {
   "cell_type": "code",
   "execution_count": 109,
   "id": "da6b72ba",
   "metadata": {},
   "outputs": [
    {
     "data": {
      "text/plain": [
       "0"
      ]
     },
     "execution_count": 109,
     "metadata": {},
     "output_type": "execute_result"
    }
   ],
   "source": [
    "table['Work_country'].isnull().sum()"
   ]
  },
  {
   "cell_type": "code",
   "execution_count": 17,
   "id": "1208d66b",
   "metadata": {},
   "outputs": [
    {
     "data": {
      "text/plain": [
       "366"
      ]
     },
     "execution_count": 17,
     "metadata": {},
     "output_type": "execute_result"
    }
   ],
   "source": [
    "paises=table['Work_country'].unique().tolist()\n",
    "len(paises)\n",
    "#Start"
   ]
  },
  {
   "cell_type": "code",
   "execution_count": 18,
   "id": "daedddbf",
   "metadata": {},
   "outputs": [
    {
     "data": {
      "text/plain": [
       "251"
      ]
     },
     "execution_count": 18,
     "metadata": {},
     "output_type": "execute_result"
    }
   ],
   "source": [
    "table['Work_country'] = table.Work_country.str.strip()\n",
    "table['Work_country'] = table.Work_country.str.capitalize()\n",
    "paises=table['Work_country'].unique().tolist()\n",
    "len(paises)"
   ]
  },
  {
   "cell_type": "code",
   "execution_count": 101,
   "id": "fa7c643f",
   "metadata": {},
   "outputs": [],
   "source": [
    "copy=table.copy()"
   ]
  },
  {
   "cell_type": "markdown",
   "id": "ec1fc1d0",
   "metadata": {},
   "source": [
    "#### USA"
   ]
  },
  {
   "cell_type": "code",
   "execution_count": 102,
   "id": "9381ccb4",
   "metadata": {},
   "outputs": [],
   "source": [
    "USA=copy[copy.Work_country.str.contains('🇺🇸|Isa|^u.s$|U.S.+|U.s|Us|U.S|usa|Usa|america|America|The U.+?|Un.+ s.+|I.s.|un.+ s.+')]\n",
    "\n"
   ]
  },
  {
   "cell_type": "code",
   "execution_count": 103,
   "id": "81ecd390",
   "metadata": {
    "collapsed": true
   },
   "outputs": [
    {
     "data": {
      "text/plain": [
       "['United states',\n",
       " 'Us',\n",
       " 'Usa',\n",
       " 'U.s.',\n",
       " 'United states of america',\n",
       " 'U.s>',\n",
       " 'Isa',\n",
       " 'United state',\n",
       " 'U.s.a',\n",
       " 'U.s.a.',\n",
       " 'America',\n",
       " 'The united states',\n",
       " 'United state of america',\n",
       " 'United stated',\n",
       " 'Usa-- virgin islands',\n",
       " 'United statws',\n",
       " 'U.s',\n",
       " 'Unites states',\n",
       " 'United sates',\n",
       " 'United states of american',\n",
       " 'Uniited states',\n",
       " 'United sates of america',\n",
       " 'United states (i work from home and my clients are all over the us/canada/pr',\n",
       " 'Unted states',\n",
       " 'United statesp',\n",
       " 'United stattes',\n",
       " 'United statea',\n",
       " 'United statees',\n",
       " 'Uniyed states',\n",
       " 'Uniyes states',\n",
       " 'United states of americas',\n",
       " 'Us of a',\n",
       " 'U.sa',\n",
       " 'United status',\n",
       " 'Canada and usa',\n",
       " 'Uss',\n",
       " 'Uniteed states',\n",
       " 'United stares',\n",
       " 'I.s.',\n",
       " 'Unite states',\n",
       " 'For the united states government, but posted overseas',\n",
       " 'United statew',\n",
       " \"I earn commission on sales. if i meet quota, i'm guaranteed another 16k min. last year i earned an additional 27k. it's not uncommon for people in my space to earn 100k+ after commission.\",\n",
       " 'United statues',\n",
       " 'Untied states',\n",
       " 'Usa (company is based in a us territory, i work remote)',\n",
       " 'Usab',\n",
       " 'Unitied states',\n",
       " 'United sttes',\n",
       " 'Uniter statez',\n",
       " 'Usa tomorrow',\n",
       " 'United stateds',\n",
       " 'Us govt employee overseas, country withheld',\n",
       " 'Usat',\n",
       " '🇺🇸',\n",
       " 'Unitef stated',\n",
       " 'Usaa',\n",
       " 'United states- puerto rico',\n",
       " 'Usd',\n",
       " \"Usa, but for foreign gov't\",\n",
       " 'United statss',\n",
       " 'United  states',\n",
       " 'United states is america']"
      ]
     },
     "execution_count": 103,
     "metadata": {},
     "output_type": "execute_result"
    }
   ],
   "source": [
    "US= USA['Work_country'].unique().tolist()\n",
    "US"
   ]
  },
  {
   "cell_type": "code",
   "execution_count": 106,
   "id": "917e378b",
   "metadata": {},
   "outputs": [],
   "source": [
    "for i in copy['Work_country']:\n",
    "    if i in US:\n",
    "        table['Work_country'].replace(i, 'USA', inplace=True) \n",
    "\n"
   ]
  },
  {
   "cell_type": "code",
   "execution_count": 180,
   "id": "32e0dbc9",
   "metadata": {},
   "outputs": [],
   "source": [
    "uss=['U. s.','U.a.', 'Uxz','San francisco', 'The us', 'Is', 'Unitedstates', 'California','United y', 'I work for a uae-based organization, though i am personally in the us.']\n",
    "\n",
    "#cannot change it"
   ]
  },
  {
   "cell_type": "code",
   "execution_count": 181,
   "id": "b71235b4",
   "metadata": {},
   "outputs": [],
   "source": [
    "for i in table['Work_country']:\n",
    "    if i in uss:\n",
    "        table['Work_country'].replace(i, 'USA', inplace=True) \n"
   ]
  },
  {
   "cell_type": "markdown",
   "id": "c25616a5",
   "metadata": {},
   "source": [
    "#### United Kingdom"
   ]
  },
  {
   "cell_type": "code",
   "execution_count": 136,
   "id": "cfd7ca77",
   "metadata": {},
   "outputs": [],
   "source": [
    "UK= copy[copy.Work_country.str.contains('u\\.k|U\\.k|kin|gr.+|Gr.+|uk|Uk|bri.+|Bri.+|u.k|En.+|eng.+|scot.+|Sco.+')]"
   ]
  },
  {
   "cell_type": "code",
   "execution_count": null,
   "id": "0a7a2653",
   "metadata": {},
   "outputs": [],
   "source": [
    "Uk= UK.Work_country.unique().tolist()\n",
    "\n",
    "for i in Uk:\n",
    "    if i=='Turkey' or i== 'Greece' or i== 'Ukraine' or 'Austria' in i:\n",
    "        Uk.remove(i)\n"
   ]
  },
  {
   "cell_type": "code",
   "execution_count": 139,
   "id": "7a9f8ca7",
   "metadata": {},
   "outputs": [],
   "source": [
    "for i in Uk:\n",
    "    if i== 'Ukraine':\n",
    "        Uk.remove(i)"
   ]
  },
  {
   "cell_type": "code",
   "execution_count": 143,
   "id": "d4edadf2",
   "metadata": {},
   "outputs": [],
   "source": [
    "for i in table['Work_country']:\n",
    "    if i in Uk:\n",
    "        table['Work_country'].replace(i, 'United Kingdom', inplace=True) \n"
   ]
  },
  {
   "cell_type": "markdown",
   "id": "8b234bdb",
   "metadata": {},
   "source": [
    "#### Canada"
   ]
  },
  {
   "cell_type": "code",
   "execution_count": 154,
   "id": "6b2e517f",
   "metadata": {},
   "outputs": [],
   "source": [
    "Can= copy[copy.Work_country.str.contains('ada|Can|can|Cs|cs')]\n",
    "can= Can.Work_country.unique().tolist()"
   ]
  },
  {
   "cell_type": "code",
   "execution_count": 156,
   "id": "f432ea47",
   "metadata": {},
   "outputs": [],
   "source": [
    "for i in can:\n",
    "    if 'states' in i:\n",
    "        can.remove(i)"
   ]
  },
  {
   "cell_type": "code",
   "execution_count": 158,
   "id": "05abd9a8",
   "metadata": {},
   "outputs": [],
   "source": [
    "for i in table['Work_country']:\n",
    "    if i in can:\n",
    "        table['Work_country'].replace(i, 'Canada', inplace=True) \n"
   ]
  },
  {
   "cell_type": "markdown",
   "id": "c9d5061b",
   "metadata": {},
   "source": [
    "#### Netherlands"
   ]
  },
  {
   "cell_type": "code",
   "execution_count": 197,
   "id": "2c105712",
   "metadata": {},
   "outputs": [],
   "source": [
    "Net= copy[copy.Work_country.str.contains('nether|Nether|Ned.+,Nl')]\n",
    "net= Net.Work_country.unique().tolist()"
   ]
  },
  {
   "cell_type": "code",
   "execution_count": 201,
   "id": "48554ea9",
   "metadata": {},
   "outputs": [
    {
     "data": {
      "text/plain": [
       "['The netherlands', 'Netherlands', 'Nl', 'Nederland']"
      ]
     },
     "execution_count": 201,
     "metadata": {},
     "output_type": "execute_result"
    }
   ],
   "source": [
    "net.append('Nl')\n",
    "net.append('Nederland')\n",
    "net"
   ]
  },
  {
   "cell_type": "code",
   "execution_count": 202,
   "id": "ba7cef96",
   "metadata": {},
   "outputs": [],
   "source": [
    "for i in table['Work_country']:\n",
    "    if i in net:\n",
    "        table['Work_country'].replace(i, 'Netherlands', inplace=True) "
   ]
  },
  {
   "cell_type": "markdown",
   "id": "4819ea5d",
   "metadata": {},
   "source": [
    "#### New Zealand"
   ]
  },
  {
   "cell_type": "code",
   "execution_count": 203,
   "id": "df29abcc",
   "metadata": {},
   "outputs": [],
   "source": [
    "Nz= copy[copy.Work_country.str.contains('new|New|nz|Nz|NZ')]\n",
    "nz= Nz.Work_country.unique().tolist()"
   ]
  },
  {
   "cell_type": "code",
   "execution_count": 204,
   "id": "b8b06914",
   "metadata": {},
   "outputs": [
    {
     "data": {
      "text/plain": [
       "['New zealand',\n",
       " 'New zealand aotearoa',\n",
       " 'Nz',\n",
       " 'From new zealand but on projects across apac',\n",
       " 'Aotearoa new zealand']"
      ]
     },
     "execution_count": 204,
     "metadata": {},
     "output_type": "execute_result"
    }
   ],
   "source": [
    "nz"
   ]
  },
  {
   "cell_type": "code",
   "execution_count": 205,
   "id": "3e497e6a",
   "metadata": {},
   "outputs": [],
   "source": [
    "for i in table['Work_country']:\n",
    "    if i in nz:\n",
    "        table['Work_country'].replace(i, 'New Zealand', inplace=True) "
   ]
  },
  {
   "cell_type": "markdown",
   "id": "9a82ea69",
   "metadata": {},
   "source": [
    "#### Australia"
   ]
  },
  {
   "cell_type": "code",
   "execution_count": 216,
   "id": "7cd67c30",
   "metadata": {},
   "outputs": [],
   "source": [
    "Au= copy[copy.Work_country.str.contains('stra')]\n",
    "au= Au.Work_country.unique().tolist()"
   ]
  },
  {
   "cell_type": "code",
   "execution_count": 217,
   "id": "dca437d8",
   "metadata": {},
   "outputs": [
    {
     "data": {
      "text/plain": [
       "['Australia', 'Australi', 'Australian']"
      ]
     },
     "execution_count": 217,
     "metadata": {},
     "output_type": "execute_result"
    }
   ],
   "source": [
    "au"
   ]
  },
  {
   "cell_type": "code",
   "execution_count": 218,
   "id": "80cec1dd",
   "metadata": {},
   "outputs": [],
   "source": [
    "for i in table['Work_country']:\n",
    "    if i in au:\n",
    "        table['Work_country'].replace(i, 'Australia', inplace=True) "
   ]
  },
  {
   "cell_type": "markdown",
   "id": "521b8b06",
   "metadata": {},
   "source": [
    "#### Argentina"
   ]
  },
  {
   "cell_type": "code",
   "execution_count": 220,
   "id": "539336f3",
   "metadata": {},
   "outputs": [],
   "source": [
    "Ar= copy[copy.Work_country.str.contains('gen')]\n",
    "ar= Ar.Work_country.unique().tolist()"
   ]
  },
  {
   "cell_type": "code",
   "execution_count": 221,
   "id": "c48e9572",
   "metadata": {},
   "outputs": [
    {
     "data": {
      "text/plain": [
       "['Argentina',\n",
       " \"I work for an us based company but i'm from argentina.\",\n",
       " 'Argentina but my org is in thailand']"
      ]
     },
     "execution_count": 221,
     "metadata": {},
     "output_type": "execute_result"
    }
   ],
   "source": [
    "ar"
   ]
  },
  {
   "cell_type": "code",
   "execution_count": 222,
   "id": "627f294d",
   "metadata": {},
   "outputs": [],
   "source": [
    "for i in table['Work_country']:\n",
    "    if i in ar:\n",
    "        table['Work_country'].replace(i, 'Argentina', inplace=True) "
   ]
  },
  {
   "cell_type": "markdown",
   "id": "efbb8d46",
   "metadata": {},
   "source": [
    "#### Czech Republic"
   ]
  },
  {
   "cell_type": "code",
   "execution_count": 228,
   "id": "fafc5a48",
   "metadata": {},
   "outputs": [],
   "source": [
    "Cz= table[table.Work_country.str.contains('zec')]\n",
    "cz= Cz.Work_country.unique().tolist()"
   ]
  },
  {
   "cell_type": "code",
   "execution_count": 229,
   "id": "1518900c",
   "metadata": {},
   "outputs": [
    {
     "data": {
      "text/plain": [
       "['Czech republic', 'Czechia']"
      ]
     },
     "execution_count": 229,
     "metadata": {},
     "output_type": "execute_result"
    }
   ],
   "source": [
    "cz"
   ]
  },
  {
   "cell_type": "code",
   "execution_count": 230,
   "id": "a42e843f",
   "metadata": {},
   "outputs": [],
   "source": [
    "for i in table['Work_country']:\n",
    "    if i in cz:\n",
    "        table['Work_country'].replace(i, 'Czech Republic', inplace=True) "
   ]
  },
  {
   "cell_type": "markdown",
   "id": "4ac89994",
   "metadata": {},
   "source": [
    "#### Denmark"
   ]
  },
  {
   "cell_type": "code",
   "execution_count": 232,
   "id": "e3a72439",
   "metadata": {},
   "outputs": [],
   "source": [
    "Dn= table[table.Work_country.str.contains('mark')]\n",
    "dn= Dn.Work_country.unique().tolist()"
   ]
  },
  {
   "cell_type": "code",
   "execution_count": 233,
   "id": "f7790f74",
   "metadata": {},
   "outputs": [
    {
     "data": {
      "text/plain": [
       "['Denmark', 'Danmark']"
      ]
     },
     "execution_count": 233,
     "metadata": {},
     "output_type": "execute_result"
    }
   ],
   "source": [
    "dn"
   ]
  },
  {
   "cell_type": "code",
   "execution_count": 234,
   "id": "e7412813",
   "metadata": {},
   "outputs": [],
   "source": [
    "for i in table['Work_country']:\n",
    "    if i in dn:\n",
    "        table['Work_country'].replace(i, 'Denmark', inplace=True) "
   ]
  },
  {
   "cell_type": "markdown",
   "id": "6f2f6b5e",
   "metadata": {},
   "source": [
    "#### China"
   ]
  },
  {
   "cell_type": "code",
   "execution_count": 236,
   "id": "a60977ac",
   "metadata": {},
   "outputs": [],
   "source": [
    "Ch= table[table.Work_country.str.contains('hin')]\n",
    "ch= Ch.Work_country.unique().tolist()"
   ]
  },
  {
   "cell_type": "code",
   "execution_count": 237,
   "id": "41e04807",
   "metadata": {},
   "outputs": [
    {
     "data": {
      "text/plain": [
       "['China', 'Mainland china']"
      ]
     },
     "execution_count": 237,
     "metadata": {},
     "output_type": "execute_result"
    }
   ],
   "source": [
    "ch"
   ]
  },
  {
   "cell_type": "code",
   "execution_count": 238,
   "id": "1cb93127",
   "metadata": {},
   "outputs": [],
   "source": [
    "for i in table['Work_country']:\n",
    "    if i in ch:\n",
    "        table['Work_country'].replace(i, 'China', inplace=True) "
   ]
  },
  {
   "cell_type": "markdown",
   "id": "a71d53ec",
   "metadata": {},
   "source": [
    "#### Japan"
   ]
  },
  {
   "cell_type": "code",
   "execution_count": 239,
   "id": "429677fb",
   "metadata": {},
   "outputs": [],
   "source": [
    "Jp= table[table.Work_country.str.contains('Jap|jap')]\n",
    "jp= Jp.Work_country.unique().tolist()"
   ]
  },
  {
   "cell_type": "code",
   "execution_count": 240,
   "id": "3771bc69",
   "metadata": {},
   "outputs": [
    {
     "data": {
      "text/plain": [
       "['Japan', 'Japan, us gov position']"
      ]
     },
     "execution_count": 240,
     "metadata": {},
     "output_type": "execute_result"
    }
   ],
   "source": [
    "jp"
   ]
  },
  {
   "cell_type": "code",
   "execution_count": 241,
   "id": "2480d157",
   "metadata": {},
   "outputs": [],
   "source": [
    "for i in table['Work_country']:\n",
    "    if i in jp:\n",
    "        table['Work_country'].replace(i, 'Japan', inplace=True) "
   ]
  },
  {
   "cell_type": "markdown",
   "id": "4119870d",
   "metadata": {},
   "source": [
    "#### Mexico"
   ]
  },
  {
   "cell_type": "code",
   "execution_count": 244,
   "id": "3f76441e",
   "metadata": {},
   "outputs": [],
   "source": [
    "Mx= table[table.Work_country.str.contains('xi')]\n",
    "mx= Mx.Work_country.unique().tolist()"
   ]
  },
  {
   "cell_type": "code",
   "execution_count": 245,
   "id": "ba8d0954",
   "metadata": {},
   "outputs": [
    {
     "data": {
      "text/plain": [
       "['Mexico', 'México']"
      ]
     },
     "execution_count": 245,
     "metadata": {},
     "output_type": "execute_result"
    }
   ],
   "source": [
    "mx"
   ]
  },
  {
   "cell_type": "code",
   "execution_count": 246,
   "id": "8c7826ae",
   "metadata": {},
   "outputs": [],
   "source": [
    "for i in table['Work_country']:\n",
    "    if i in mx:\n",
    "        table['Work_country'].replace(i, 'Mexico', inplace=True) "
   ]
  },
  {
   "cell_type": "markdown",
   "id": "aff6ac8c",
   "metadata": {},
   "source": [
    "#### Philippines"
   ]
  },
  {
   "cell_type": "code",
   "execution_count": 247,
   "id": "7c287be8",
   "metadata": {},
   "outputs": [],
   "source": [
    "Ph= table[table.Work_country.str.contains('ili')]\n",
    "ph= Ph.Work_country.unique().tolist()"
   ]
  },
  {
   "cell_type": "code",
   "execution_count": 248,
   "id": "339f0daf",
   "metadata": {},
   "outputs": [
    {
     "data": {
      "text/plain": [
       "['Philippines', 'Remote (philippines)']"
      ]
     },
     "execution_count": 248,
     "metadata": {},
     "output_type": "execute_result"
    }
   ],
   "source": [
    "ph"
   ]
  },
  {
   "cell_type": "code",
   "execution_count": 249,
   "id": "a3c65131",
   "metadata": {},
   "outputs": [],
   "source": [
    "for i in table['Work_country']:\n",
    "    if i in ph:\n",
    "        table['Work_country'].replace(i, 'Philippines', inplace=True) "
   ]
  },
  {
   "cell_type": "markdown",
   "id": "63c1bd09",
   "metadata": {},
   "source": [
    "#### Italy"
   ]
  },
  {
   "cell_type": "code",
   "execution_count": 253,
   "id": "87d7516f",
   "metadata": {},
   "outputs": [],
   "source": [
    "It= table[table.Work_country.str.contains('taly')]\n",
    "it= It.Work_country.unique().tolist()"
   ]
  },
  {
   "cell_type": "code",
   "execution_count": 254,
   "id": "f71c9f0a",
   "metadata": {},
   "outputs": [
    {
     "data": {
      "text/plain": [
       "['Italy (south)', 'Italy']"
      ]
     },
     "execution_count": 254,
     "metadata": {},
     "output_type": "execute_result"
    }
   ],
   "source": [
    "it"
   ]
  },
  {
   "cell_type": "code",
   "execution_count": 255,
   "id": "db173eea",
   "metadata": {},
   "outputs": [],
   "source": [
    "for i in table['Work_country']:\n",
    "    if i in it:\n",
    "        table['Work_country'].replace(i, 'Italy', inplace=True) "
   ]
  },
  {
   "cell_type": "markdown",
   "id": "5ac7af5f",
   "metadata": {},
   "source": [
    "#### Hong Kong"
   ]
  },
  {
   "cell_type": "code",
   "execution_count": 260,
   "id": "7cf57827",
   "metadata": {},
   "outputs": [],
   "source": [
    "Hk= table[table.Work_country.str.contains('kon')]\n",
    "hk= Hk.Work_country.unique().tolist()"
   ]
  },
  {
   "cell_type": "code",
   "execution_count": 261,
   "id": "6dc3e034",
   "metadata": {},
   "outputs": [
    {
     "data": {
      "text/plain": [
       "['Hong kong', 'Hong konh']"
      ]
     },
     "execution_count": 261,
     "metadata": {},
     "output_type": "execute_result"
    }
   ],
   "source": [
    "hk"
   ]
  },
  {
   "cell_type": "code",
   "execution_count": 262,
   "id": "a9d70603",
   "metadata": {},
   "outputs": [],
   "source": [
    "for i in table['Work_country']:\n",
    "    if i in hk:\n",
    "        table['Work_country'].replace(i, 'Hong Kong', inplace=True) "
   ]
  },
  {
   "cell_type": "markdown",
   "id": "e9b757bd",
   "metadata": {},
   "source": [
    "#### Luxembourg"
   ]
  },
  {
   "cell_type": "code",
   "execution_count": 263,
   "id": "45b163ce",
   "metadata": {},
   "outputs": [],
   "source": [
    "Lx= table[table.Work_country.str.contains('ux')]\n",
    "lx= Lx.Work_country.unique().tolist()"
   ]
  },
  {
   "cell_type": "code",
   "execution_count": 264,
   "id": "38627183",
   "metadata": {},
   "outputs": [
    {
     "data": {
      "text/plain": [
       "['Luxembourg', 'Luxemburg']"
      ]
     },
     "execution_count": 264,
     "metadata": {},
     "output_type": "execute_result"
    }
   ],
   "source": [
    "lx"
   ]
  },
  {
   "cell_type": "code",
   "execution_count": 265,
   "id": "b3ec7e55",
   "metadata": {},
   "outputs": [],
   "source": [
    "for i in table['Work_country']:\n",
    "    if i in lx:\n",
    "        table['Work_country'].replace(i, 'Luxembourg', inplace=True) "
   ]
  },
  {
   "cell_type": "markdown",
   "id": "c6797f64",
   "metadata": {},
   "source": [
    "#### Romania"
   ]
  },
  {
   "cell_type": "code",
   "execution_count": 266,
   "id": "570c915a",
   "metadata": {},
   "outputs": [],
   "source": [
    "Rm= table[table.Work_country.str.contains('oman')]\n",
    "rm= Rm.Work_country.unique().tolist()"
   ]
  },
  {
   "cell_type": "code",
   "execution_count": 267,
   "id": "5f5ffc40",
   "metadata": {},
   "outputs": [
    {
     "data": {
      "text/plain": [
       "['Romania', 'From romania, but for an us based company']"
      ]
     },
     "execution_count": 267,
     "metadata": {},
     "output_type": "execute_result"
    }
   ],
   "source": [
    "rm"
   ]
  },
  {
   "cell_type": "code",
   "execution_count": 268,
   "id": "7ffc7593",
   "metadata": {},
   "outputs": [],
   "source": [
    "for i in table['Work_country']:\n",
    "    if i in rm:\n",
    "        table['Work_country'].replace(i, 'Romania', inplace=True) "
   ]
  },
  {
   "cell_type": "markdown",
   "id": "7ef874e2",
   "metadata": {},
   "source": [
    "#### Pakistan"
   ]
  },
  {
   "cell_type": "code",
   "execution_count": 271,
   "id": "f0d472ad",
   "metadata": {},
   "outputs": [],
   "source": [
    "Pk= table[table.Work_country.str.contains('akis')]\n",
    "pk= Pk.Work_country.unique().tolist()"
   ]
  },
  {
   "cell_type": "code",
   "execution_count": 272,
   "id": "be6ab901",
   "metadata": {},
   "outputs": [
    {
     "data": {
      "text/plain": [
       "['Pakistan', 'Company in germany. i work from pakistan.']"
      ]
     },
     "execution_count": 272,
     "metadata": {},
     "output_type": "execute_result"
    }
   ],
   "source": [
    "pk"
   ]
  },
  {
   "cell_type": "code",
   "execution_count": 273,
   "id": "a7b56e26",
   "metadata": {},
   "outputs": [],
   "source": [
    "for i in table['Work_country']:\n",
    "    if i in pk:\n",
    "        table['Work_country'].replace(i, 'Pakistan', inplace=True) "
   ]
  },
  {
   "cell_type": "markdown",
   "id": "f6a4db68",
   "metadata": {},
   "source": [
    "#### NA"
   ]
  },
  {
   "cell_type": "code",
   "execution_count": 314,
   "id": "4ff0d2b3",
   "metadata": {},
   "outputs": [],
   "source": [
    "Na= table[table.Work_country.str.contains('Na')]\n",
    "na= Na.Work_country.unique().tolist()"
   ]
  },
  {
   "cell_type": "code",
   "execution_count": 316,
   "id": "05eb6b32",
   "metadata": {},
   "outputs": [
    {
     "data": {
      "text/plain": [
       "['Na', 'N/a (remote from wherever i want)']"
      ]
     },
     "execution_count": 316,
     "metadata": {},
     "output_type": "execute_result"
    }
   ],
   "source": [
    "na.append('N/a (remote from wherever i want)')\n",
    "na"
   ]
  },
  {
   "cell_type": "code",
   "execution_count": 317,
   "id": "fc2413e3",
   "metadata": {},
   "outputs": [],
   "source": [
    "for i in table['Work_country']:\n",
    "    if i in na:\n",
    "        table['Work_country'].replace(i, 'Nowhere', inplace=True) "
   ]
  },
  {
   "cell_type": "markdown",
   "id": "f986179e",
   "metadata": {},
   "source": [
    "#### Casos"
   ]
  },
  {
   "cell_type": "code",
   "execution_count": 284,
   "id": "423c10f7",
   "metadata": {},
   "outputs": [],
   "source": [
    "table.loc[table.Work_country == '$2,175.84/year is deducted for benefits', 'Work_country'] = 'Canada'"
   ]
  },
  {
   "cell_type": "code",
   "execution_count": 289,
   "id": "b7a34ee3",
   "metadata": {},
   "outputs": [],
   "source": [
    "table.loc[table.Work_country == 'Currently finance', 'Work_country'] = 'USA'"
   ]
  },
  {
   "cell_type": "code",
   "execution_count": null,
   "id": "41f3de07",
   "metadata": {},
   "outputs": [],
   "source": [
    "table.loc[table.Work_country == 'I was brought in on this salary to help with the ehr and very quickly was promoted to current position but compensation was not altered.', 'Work_country'] = 'USA'"
   ]
  },
  {
   "cell_type": "code",
   "execution_count": 294,
   "id": "262725da",
   "metadata": {},
   "outputs": [],
   "source": [
    "table.loc[table.Work_country == 'Worldwide (based in us but short term trips aroudn the world)', 'Work_country']= 'USA'"
   ]
  },
  {
   "cell_type": "code",
   "execution_count": 296,
   "id": "c2ecbc42",
   "metadata": {},
   "outputs": [],
   "source": [
    "table.loc[table.Work_country == 'Y', 'Work_country']='USA'"
   ]
  },
  {
   "cell_type": "code",
   "execution_count": 299,
   "id": "2c97ddc1",
   "metadata": {},
   "outputs": [],
   "source": [
    "table.loc[table.Work_country == 'Bonus based on meeting yearly goals set w/ my supervisor', 'Work_country'] = 'USA'"
   ]
  },
  {
   "cell_type": "code",
   "execution_count": 301,
   "id": "cfa7c06d",
   "metadata": {},
   "outputs": [],
   "source": [
    "table.loc[table.Work_country == \"We don't get raises, we get quarterly bonuses, but they periodically asses income in the area you work, so i got a raise because a 3rd party assessment showed i was paid too little for the area we were located\", 'Work_country'] = 'USA'"
   ]
  },
  {
   "cell_type": "code",
   "execution_count": 318,
   "id": "818719d1",
   "metadata": {
    "collapsed": true
   },
   "outputs": [
    {
     "data": {
      "text/plain": [
       "['Afghanistan',\n",
       " 'Africa',\n",
       " 'Argentina',\n",
       " 'Australia',\n",
       " 'Austria',\n",
       " 'Bangladesh',\n",
       " 'Belgium',\n",
       " 'Bermuda',\n",
       " 'Bosnia and herzegovina',\n",
       " 'Brasil',\n",
       " 'Brazil',\n",
       " 'Bulgaria',\n",
       " 'Cambodia',\n",
       " 'Canada',\n",
       " 'Catalonia',\n",
       " 'Cayman islands',\n",
       " 'Chile',\n",
       " 'China',\n",
       " 'Colombia',\n",
       " 'Congo',\n",
       " 'Contracts',\n",
       " 'Costa rica',\n",
       " \"Cote d'ivoire\",\n",
       " 'Croatia',\n",
       " 'Cuba',\n",
       " 'Cyprus',\n",
       " 'Czech Republic',\n",
       " 'Denmark',\n",
       " 'Ecuador',\n",
       " 'Eritrea',\n",
       " 'Estonia',\n",
       " 'Europe',\n",
       " 'Finland',\n",
       " 'France',\n",
       " 'Germany',\n",
       " 'Ghana',\n",
       " 'Global',\n",
       " 'Greece',\n",
       " 'Hartford',\n",
       " 'Hong Kong',\n",
       " 'Hungary',\n",
       " 'India',\n",
       " 'Indonesia',\n",
       " 'International',\n",
       " 'Ireland',\n",
       " 'Isle of man',\n",
       " 'Israel',\n",
       " 'Italy',\n",
       " 'Jamaica',\n",
       " 'Japan',\n",
       " 'Jersey, channel islands',\n",
       " 'Jordan',\n",
       " 'Kenya',\n",
       " 'Kuwait',\n",
       " 'Latvia',\n",
       " 'Liechtenstein',\n",
       " 'Lithuania',\n",
       " 'Luxembourg',\n",
       " 'Malaysia',\n",
       " 'Malta',\n",
       " 'Mexico',\n",
       " 'Morocco',\n",
       " 'Netherlands',\n",
       " 'New Zealand',\n",
       " 'Nigeria',\n",
       " 'Northern ireland',\n",
       " 'Norway',\n",
       " 'Nowhere',\n",
       " 'Pakistan',\n",
       " 'Panamá',\n",
       " 'Philippines',\n",
       " 'Poland',\n",
       " 'Policy',\n",
       " 'Portugal',\n",
       " 'Puerto rico',\n",
       " 'Qatar',\n",
       " 'Remote',\n",
       " 'Romania',\n",
       " 'Russia',\n",
       " 'Rwanda',\n",
       " 'Saudi arabia',\n",
       " 'Serbia',\n",
       " 'Sierra leone',\n",
       " 'Singapore',\n",
       " 'Slovakia',\n",
       " 'Slovenia',\n",
       " 'Somalia',\n",
       " 'South africa',\n",
       " 'South korea',\n",
       " 'Spain',\n",
       " 'Sri lanka',\n",
       " 'Sweden',\n",
       " 'Switzerland',\n",
       " 'Taiwan',\n",
       " 'Thailand',\n",
       " 'The bahamas',\n",
       " 'Trinidad and tobago',\n",
       " 'Turkey',\n",
       " 'U. s',\n",
       " 'USA',\n",
       " 'Ua',\n",
       " 'Uae',\n",
       " 'Uganda',\n",
       " 'Ukraine',\n",
       " 'United Kingdom',\n",
       " 'United arab emirates',\n",
       " 'Uruguay',\n",
       " 'Vietnam',\n",
       " 'Virginia',\n",
       " 'Wales',\n",
       " 'Zimbabwe']"
      ]
     },
     "execution_count": 318,
     "metadata": {},
     "output_type": "execute_result"
    }
   ],
   "source": [
    "unique= table.Work_country.unique().tolist()\n",
    "unique= sorted(unique)\n",
    "unique"
   ]
  },
  {
   "cell_type": "code",
   "execution_count": 319,
   "id": "311e93b6",
   "metadata": {},
   "outputs": [
    {
     "data": {
      "text/plain": [
       "111"
      ]
     },
     "execution_count": 319,
     "metadata": {},
     "output_type": "execute_result"
    }
   ],
   "source": [
    "len(unique)\n",
    "#Final"
   ]
  },
  {
   "cell_type": "markdown",
   "id": "7d9ff556",
   "metadata": {},
   "source": [
    "### Workplace_city"
   ]
  },
  {
   "cell_type": "code",
   "execution_count": 321,
   "id": "8c0c1cb1",
   "metadata": {},
   "outputs": [],
   "source": [
    "copy=table.copy()"
   ]
  },
  {
   "cell_type": "code",
   "execution_count": 323,
   "id": "21d6c38b",
   "metadata": {},
   "outputs": [
    {
     "data": {
      "text/plain": [
       "75"
      ]
     },
     "execution_count": 323,
     "metadata": {},
     "output_type": "execute_result"
    }
   ],
   "source": [
    "copy.Workplace_city.isna().sum()"
   ]
  },
  {
   "cell_type": "code",
   "execution_count": 327,
   "id": "313e6b58",
   "metadata": {},
   "outputs": [
    {
     "data": {
      "text/plain": [
       "array(['Spain', 'USA', 'Canada', 'Ireland', 'Finland', 'Somalia',\n",
       "       'United Kingdom', 'Denmark'], dtype=object)"
      ]
     },
     "execution_count": 327,
     "metadata": {},
     "output_type": "execute_result"
    }
   ],
   "source": [
    "copy.loc[copy.Workplace_city.isna()]['Work_country'].unique() \n",
    "#For future analysis we can occuppy the country, so, no things to do here."
   ]
  },
  {
   "cell_type": "markdown",
   "id": "e15c1cac",
   "metadata": {},
   "source": [
    "#### How in a loop add the name of the country in the city's column?"
   ]
  },
  {
   "cell_type": "code",
   "execution_count": 357,
   "id": "9e82de8c",
   "metadata": {},
   "outputs": [
    {
     "data": {
      "text/plain": [
       "4773"
      ]
     },
     "execution_count": 357,
     "metadata": {},
     "output_type": "execute_result"
    }
   ],
   "source": [
    "city= table.Workplace_city.unique().tolist()\n",
    "len(city)\n",
    "#Hardwork to categorizing all the cities, more than the countries"
   ]
  },
  {
   "cell_type": "code",
   "execution_count": 360,
   "id": "d7c70dbb",
   "metadata": {},
   "outputs": [
    {
     "data": {
      "text/plain": [
       "4773"
      ]
     },
     "execution_count": 360,
     "metadata": {},
     "output_type": "execute_result"
    }
   ],
   "source": [
    "table['Workplace_city'] = table.Workplace_city.str.strip()\n",
    "table['Workplace_city'] = table.Workplace_city.str.capitalize()\n",
    "len(city)"
   ]
  },
  {
   "cell_type": "raw",
   "id": "55b1a9a6",
   "metadata": {},
   "source": [
    "Future analisis we expect use regex apply on the city"
   ]
  },
  {
   "cell_type": "markdown",
   "id": "057df0f2",
   "metadata": {},
   "source": [
    "### Overall_experience_years"
   ]
  },
  {
   "cell_type": "code",
   "execution_count": 361,
   "id": "130b0710",
   "metadata": {},
   "outputs": [
    {
     "data": {
      "text/plain": [
       "0"
      ]
     },
     "execution_count": 361,
     "metadata": {},
     "output_type": "execute_result"
    }
   ],
   "source": [
    "table.Overall_experience_years.isna().sum()"
   ]
  },
  {
   "cell_type": "code",
   "execution_count": 370,
   "id": "68ca2102",
   "metadata": {},
   "outputs": [
    {
     "data": {
      "text/plain": [
       "['5-7 years',\n",
       " '8 - 10 years',\n",
       " '2 - 4 years',\n",
       " '21 - 30 years',\n",
       " '11 - 20 years',\n",
       " '1 year or less',\n",
       " '41 years or more',\n",
       " '31 - 40 years']"
      ]
     },
     "execution_count": 370,
     "metadata": {},
     "output_type": "execute_result"
    }
   ],
   "source": [
    "table.Overall_experience_years.unique().tolist()"
   ]
  },
  {
   "cell_type": "code",
   "execution_count": 374,
   "id": "81d8f674",
   "metadata": {},
   "outputs": [
    {
     "data": {
      "text/plain": [
       "['5-7 years',\n",
       " '8-10 years',\n",
       " '2-4 years',\n",
       " '21-30 years',\n",
       " '11-20 years',\n",
       " '1 year or less',\n",
       " '41 years or more',\n",
       " '31-40 years']"
      ]
     },
     "execution_count": 374,
     "metadata": {},
     "output_type": "execute_result"
    }
   ],
   "source": [
    "table['Overall_experience_years'] = table['Overall_experience_years'].apply(lambda x: re.sub(r' - ', '-', str(x)))\n",
    "table.Overall_experience_years.unique().tolist()"
   ]
  },
  {
   "cell_type": "markdown",
   "id": "5eb86b0a",
   "metadata": {},
   "source": [
    "### Field_experience_years"
   ]
  },
  {
   "cell_type": "code",
   "execution_count": 375,
   "id": "68601445",
   "metadata": {},
   "outputs": [
    {
     "data": {
      "text/plain": [
       "0"
      ]
     },
     "execution_count": 375,
     "metadata": {},
     "output_type": "execute_result"
    }
   ],
   "source": [
    "table.Field_experience_years.isna().sum()"
   ]
  },
  {
   "cell_type": "code",
   "execution_count": 376,
   "id": "3d1aeab2",
   "metadata": {},
   "outputs": [
    {
     "data": {
      "text/plain": [
       "['5-7 years',\n",
       " '2 - 4 years',\n",
       " '21 - 30 years',\n",
       " '11 - 20 years',\n",
       " '1 year or less',\n",
       " '8 - 10 years',\n",
       " '31 - 40 years',\n",
       " '41 years or more']"
      ]
     },
     "execution_count": 376,
     "metadata": {},
     "output_type": "execute_result"
    }
   ],
   "source": [
    "table.Field_experience_years.unique().tolist()"
   ]
  },
  {
   "cell_type": "code",
   "execution_count": 377,
   "id": "539cfe5c",
   "metadata": {},
   "outputs": [
    {
     "data": {
      "text/plain": [
       "['5-7 years',\n",
       " '8-10 years',\n",
       " '2-4 years',\n",
       " '21-30 years',\n",
       " '11-20 years',\n",
       " '1 year or less',\n",
       " '41 years or more',\n",
       " '31-40 years']"
      ]
     },
     "execution_count": 377,
     "metadata": {},
     "output_type": "execute_result"
    }
   ],
   "source": [
    "table['Field_experience_years'] = table['Field_experience_years'].apply(lambda x: re.sub(r' - ', '-', str(x)))\n",
    "table.Overall_experience_years.unique().tolist()"
   ]
  },
  {
   "cell_type": "markdown",
   "id": "ee369293",
   "metadata": {},
   "source": [
    "### Educational_level"
   ]
  },
  {
   "cell_type": "code",
   "execution_count": 378,
   "id": "e5606b0a",
   "metadata": {},
   "outputs": [
    {
     "data": {
      "text/plain": [
       "209"
      ]
     },
     "execution_count": 378,
     "metadata": {},
     "output_type": "execute_result"
    }
   ],
   "source": [
    "table.Educational_level.isna().sum()"
   ]
  },
  {
   "cell_type": "code",
   "execution_count": 379,
   "id": "29efd0e9",
   "metadata": {},
   "outputs": [
    {
     "data": {
      "text/html": [
       "<div>\n",
       "<style scoped>\n",
       "    .dataframe tbody tr th:only-of-type {\n",
       "        vertical-align: middle;\n",
       "    }\n",
       "\n",
       "    .dataframe tbody tr th {\n",
       "        vertical-align: top;\n",
       "    }\n",
       "\n",
       "    .dataframe thead th {\n",
       "        text-align: right;\n",
       "    }\n",
       "</style>\n",
       "<table border=\"1\" class=\"dataframe\">\n",
       "  <thead>\n",
       "    <tr style=\"text-align: right;\">\n",
       "      <th></th>\n",
       "      <th>Date</th>\n",
       "      <th>Age</th>\n",
       "      <th>Workplace</th>\n",
       "      <th>Ocuppation</th>\n",
       "      <th>Annual_salary</th>\n",
       "      <th>Payment_currency</th>\n",
       "      <th>Work_country</th>\n",
       "      <th>American_work_state</th>\n",
       "      <th>Workplace_city</th>\n",
       "      <th>Overall_experience_years</th>\n",
       "      <th>Field_experience_years</th>\n",
       "      <th>Educational_level</th>\n",
       "      <th>Gender</th>\n",
       "      <th>Race/ethnicity</th>\n",
       "      <th>Hour</th>\n",
       "    </tr>\n",
       "  </thead>\n",
       "  <tbody>\n",
       "    <tr>\n",
       "      <th>13</th>\n",
       "      <td>2021-04-27</td>\n",
       "      <td>25-34</td>\n",
       "      <td>Law</td>\n",
       "      <td>Legal Aid Staff Attorney</td>\n",
       "      <td>52000</td>\n",
       "      <td>USD</td>\n",
       "      <td>USA</td>\n",
       "      <td>Minnesota</td>\n",
       "      <td>Saint paul</td>\n",
       "      <td>2-4 years</td>\n",
       "      <td>2-4 years</td>\n",
       "      <td>NaN</td>\n",
       "      <td>Woman</td>\n",
       "      <td>White</td>\n",
       "      <td>11</td>\n",
       "    </tr>\n",
       "    <tr>\n",
       "      <th>24</th>\n",
       "      <td>2021-04-27</td>\n",
       "      <td>25-34</td>\n",
       "      <td>Public library</td>\n",
       "      <td>Teen Librarian</td>\n",
       "      <td>44500</td>\n",
       "      <td>USD</td>\n",
       "      <td>USA</td>\n",
       "      <td>Florida</td>\n",
       "      <td>Bradenton</td>\n",
       "      <td>5-7 years</td>\n",
       "      <td>2-4 years</td>\n",
       "      <td>NaN</td>\n",
       "      <td>Woman</td>\n",
       "      <td>White</td>\n",
       "      <td>11</td>\n",
       "    </tr>\n",
       "    <tr>\n",
       "      <th>192</th>\n",
       "      <td>2021-04-27</td>\n",
       "      <td>35-44</td>\n",
       "      <td>Education</td>\n",
       "      <td>Associate Director</td>\n",
       "      <td>63000</td>\n",
       "      <td>USD</td>\n",
       "      <td>USA</td>\n",
       "      <td>Texas</td>\n",
       "      <td>El paso</td>\n",
       "      <td>11-20 years</td>\n",
       "      <td>8-10 years</td>\n",
       "      <td>NaN</td>\n",
       "      <td>Woman</td>\n",
       "      <td>Hispanic, Latino, or Spanish origin</td>\n",
       "      <td>11</td>\n",
       "    </tr>\n",
       "    <tr>\n",
       "      <th>241</th>\n",
       "      <td>2021-04-27</td>\n",
       "      <td>35-44</td>\n",
       "      <td>Sales</td>\n",
       "      <td>Sales support</td>\n",
       "      <td>23050</td>\n",
       "      <td>GBP</td>\n",
       "      <td>United Kingdom</td>\n",
       "      <td>NaN</td>\n",
       "      <td>London</td>\n",
       "      <td>11-20 years</td>\n",
       "      <td>8-10 years</td>\n",
       "      <td>NaN</td>\n",
       "      <td>Woman</td>\n",
       "      <td>White</td>\n",
       "      <td>11</td>\n",
       "    </tr>\n",
       "    <tr>\n",
       "      <th>659</th>\n",
       "      <td>2021-04-27</td>\n",
       "      <td>45-54</td>\n",
       "      <td>Utilities &amp; telecommunications</td>\n",
       "      <td>Financial Analyst</td>\n",
       "      <td>87360</td>\n",
       "      <td>USD</td>\n",
       "      <td>USA</td>\n",
       "      <td>Texas</td>\n",
       "      <td>Houston</td>\n",
       "      <td>21-30 years</td>\n",
       "      <td>11-20 years</td>\n",
       "      <td>NaN</td>\n",
       "      <td>Woman</td>\n",
       "      <td>Black or African American</td>\n",
       "      <td>11</td>\n",
       "    </tr>\n",
       "    <tr>\n",
       "      <th>...</th>\n",
       "      <td>...</td>\n",
       "      <td>...</td>\n",
       "      <td>...</td>\n",
       "      <td>...</td>\n",
       "      <td>...</td>\n",
       "      <td>...</td>\n",
       "      <td>...</td>\n",
       "      <td>...</td>\n",
       "      <td>...</td>\n",
       "      <td>...</td>\n",
       "      <td>...</td>\n",
       "      <td>...</td>\n",
       "      <td>...</td>\n",
       "      <td>...</td>\n",
       "      <td>...</td>\n",
       "    </tr>\n",
       "    <tr>\n",
       "      <th>27174</th>\n",
       "      <td>2021-10-26</td>\n",
       "      <td>25-34</td>\n",
       "      <td>Computing</td>\n",
       "      <td>Solution Architect</td>\n",
       "      <td>36000</td>\n",
       "      <td>EUR</td>\n",
       "      <td>Latvia</td>\n",
       "      <td>NaN</td>\n",
       "      <td>Riga</td>\n",
       "      <td>11-20 years</td>\n",
       "      <td>11-20 years</td>\n",
       "      <td>NaN</td>\n",
       "      <td>Man</td>\n",
       "      <td>White</td>\n",
       "      <td>13</td>\n",
       "    </tr>\n",
       "    <tr>\n",
       "      <th>27289</th>\n",
       "      <td>2021-10-26</td>\n",
       "      <td>25-34</td>\n",
       "      <td>Energy</td>\n",
       "      <td>Pumper</td>\n",
       "      <td>70720</td>\n",
       "      <td>USD</td>\n",
       "      <td>USA</td>\n",
       "      <td>North Dakota</td>\n",
       "      <td>Fairfield</td>\n",
       "      <td>11-20 years</td>\n",
       "      <td>5-7 years</td>\n",
       "      <td>NaN</td>\n",
       "      <td>NaN</td>\n",
       "      <td>NaN</td>\n",
       "      <td>14</td>\n",
       "    </tr>\n",
       "    <tr>\n",
       "      <th>27587</th>\n",
       "      <td>2021-12-28</td>\n",
       "      <td>35-44</td>\n",
       "      <td>Education</td>\n",
       "      <td>teacher</td>\n",
       "      <td>58000</td>\n",
       "      <td>EUR</td>\n",
       "      <td>Germany</td>\n",
       "      <td>NaN</td>\n",
       "      <td>Mannheim</td>\n",
       "      <td>21-30 years</td>\n",
       "      <td>5-7 years</td>\n",
       "      <td>NaN</td>\n",
       "      <td>NaN</td>\n",
       "      <td>NaN</td>\n",
       "      <td>16</td>\n",
       "    </tr>\n",
       "    <tr>\n",
       "      <th>27725</th>\n",
       "      <td>2022-03-22</td>\n",
       "      <td>25-34</td>\n",
       "      <td>Engineering</td>\n",
       "      <td>R&amp;D Engineer</td>\n",
       "      <td>96000</td>\n",
       "      <td>USD</td>\n",
       "      <td>USA</td>\n",
       "      <td>California</td>\n",
       "      <td>Redwood city</td>\n",
       "      <td>2-4 years</td>\n",
       "      <td>1 year or less</td>\n",
       "      <td>NaN</td>\n",
       "      <td>Man</td>\n",
       "      <td>NaN</td>\n",
       "      <td>18</td>\n",
       "    </tr>\n",
       "    <tr>\n",
       "      <th>27730</th>\n",
       "      <td>2022-03-27</td>\n",
       "      <td>18-24</td>\n",
       "      <td>Nan</td>\n",
       "      <td>chief executive official</td>\n",
       "      <td>50000</td>\n",
       "      <td>ZAR</td>\n",
       "      <td>Spain</td>\n",
       "      <td>NaN</td>\n",
       "      <td>Castellon</td>\n",
       "      <td>8-10 years</td>\n",
       "      <td>11-20 years</td>\n",
       "      <td>NaN</td>\n",
       "      <td>NaN</td>\n",
       "      <td>NaN</td>\n",
       "      <td>10</td>\n",
       "    </tr>\n",
       "  </tbody>\n",
       "</table>\n",
       "<p>209 rows × 15 columns</p>\n",
       "</div>"
      ],
      "text/plain": [
       "             Date    Age                       Workplace  \\\n",
       "13     2021-04-27  25-34                             Law   \n",
       "24     2021-04-27  25-34                  Public library   \n",
       "192    2021-04-27  35-44                       Education   \n",
       "241    2021-04-27  35-44                           Sales   \n",
       "659    2021-04-27  45-54  Utilities & telecommunications   \n",
       "...           ...    ...                             ...   \n",
       "27174  2021-10-26  25-34                       Computing   \n",
       "27289  2021-10-26  25-34                          Energy   \n",
       "27587  2021-12-28  35-44                       Education   \n",
       "27725  2022-03-22  25-34                     Engineering   \n",
       "27730  2022-03-27  18-24                             Nan   \n",
       "\n",
       "                     Ocuppation Annual_salary Payment_currency  \\\n",
       "13     Legal Aid Staff Attorney         52000              USD   \n",
       "24              Teen Librarian          44500              USD   \n",
       "192         Associate Director          63000              USD   \n",
       "241               Sales support         23050              GBP   \n",
       "659           Financial Analyst         87360              USD   \n",
       "...                         ...           ...              ...   \n",
       "27174        Solution Architect         36000              EUR   \n",
       "27289                    Pumper         70720              USD   \n",
       "27587                   teacher         58000              EUR   \n",
       "27725              R&D Engineer         96000              USD   \n",
       "27730  chief executive official         50000              ZAR   \n",
       "\n",
       "         Work_country American_work_state Workplace_city  \\\n",
       "13                USA           Minnesota     Saint paul   \n",
       "24                USA             Florida      Bradenton   \n",
       "192               USA               Texas        El paso   \n",
       "241    United Kingdom                 NaN         London   \n",
       "659               USA               Texas        Houston   \n",
       "...               ...                 ...            ...   \n",
       "27174          Latvia                 NaN           Riga   \n",
       "27289             USA        North Dakota      Fairfield   \n",
       "27587         Germany                 NaN       Mannheim   \n",
       "27725             USA          California   Redwood city   \n",
       "27730           Spain                 NaN      Castellon   \n",
       "\n",
       "      Overall_experience_years Field_experience_years Educational_level  \\\n",
       "13                   2-4 years              2-4 years               NaN   \n",
       "24                   5-7 years              2-4 years               NaN   \n",
       "192                11-20 years             8-10 years               NaN   \n",
       "241                11-20 years             8-10 years               NaN   \n",
       "659                21-30 years            11-20 years               NaN   \n",
       "...                        ...                    ...               ...   \n",
       "27174              11-20 years            11-20 years               NaN   \n",
       "27289              11-20 years              5-7 years               NaN   \n",
       "27587              21-30 years              5-7 years               NaN   \n",
       "27725                2-4 years         1 year or less               NaN   \n",
       "27730               8-10 years            11-20 years               NaN   \n",
       "\n",
       "      Gender                       Race/ethnicity  Hour  \n",
       "13     Woman                                White    11  \n",
       "24     Woman                                White    11  \n",
       "192    Woman  Hispanic, Latino, or Spanish origin    11  \n",
       "241    Woman                                White    11  \n",
       "659    Woman            Black or African American    11  \n",
       "...      ...                                  ...   ...  \n",
       "27174    Man                                White    13  \n",
       "27289    NaN                                  NaN    14  \n",
       "27587    NaN                                  NaN    16  \n",
       "27725    Man                                  NaN    18  \n",
       "27730    NaN                                  NaN    10  \n",
       "\n",
       "[209 rows x 15 columns]"
      ]
     },
     "execution_count": 379,
     "metadata": {},
     "output_type": "execute_result"
    }
   ],
   "source": [
    "table.loc[table.Educational_level.isna()]"
   ]
  },
  {
   "cell_type": "code",
   "execution_count": 380,
   "id": "5efc3830",
   "metadata": {},
   "outputs": [
    {
     "data": {
      "text/plain": [
       "[\"Master's degree\",\n",
       " 'College degree',\n",
       " 'PhD',\n",
       " nan,\n",
       " 'Some college',\n",
       " 'High School',\n",
       " 'Professional degree (MD, JD, etc.)']"
      ]
     },
     "execution_count": 380,
     "metadata": {},
     "output_type": "execute_result"
    }
   ],
   "source": [
    "table.Educational_level.unique().tolist()"
   ]
  },
  {
   "cell_type": "code",
   "execution_count": 383,
   "id": "b961d7a4",
   "metadata": {},
   "outputs": [],
   "source": [
    "table.loc[table.Educational_level.isna(), 'Educational_level']='Some college'"
   ]
  },
  {
   "cell_type": "code",
   "execution_count": 384,
   "id": "23db6093",
   "metadata": {},
   "outputs": [
    {
     "data": {
      "text/plain": [
       "[\"Master's degree\",\n",
       " 'College degree',\n",
       " 'PhD',\n",
       " 'Some college',\n",
       " 'High School',\n",
       " 'Professional degree (MD, JD, etc.)']"
      ]
     },
     "execution_count": 384,
     "metadata": {},
     "output_type": "execute_result"
    }
   ],
   "source": [
    "table.Educational_level.unique().tolist()"
   ]
  },
  {
   "cell_type": "markdown",
   "id": "e823c184",
   "metadata": {},
   "source": [
    "### Gender"
   ]
  },
  {
   "cell_type": "code",
   "execution_count": 385,
   "id": "b8d22338",
   "metadata": {},
   "outputs": [
    {
     "data": {
      "text/plain": [
       "165"
      ]
     },
     "execution_count": 385,
     "metadata": {},
     "output_type": "execute_result"
    }
   ],
   "source": [
    "table.Gender.isna().sum()"
   ]
  },
  {
   "cell_type": "code",
   "execution_count": 395,
   "id": "d3f09d69",
   "metadata": {
    "collapsed": true
   },
   "outputs": [
    {
     "data": {
      "text/html": [
       "<div>\n",
       "<style scoped>\n",
       "    .dataframe tbody tr th:only-of-type {\n",
       "        vertical-align: middle;\n",
       "    }\n",
       "\n",
       "    .dataframe tbody tr th {\n",
       "        vertical-align: top;\n",
       "    }\n",
       "\n",
       "    .dataframe thead th {\n",
       "        text-align: right;\n",
       "    }\n",
       "</style>\n",
       "<table border=\"1\" class=\"dataframe\">\n",
       "  <thead>\n",
       "    <tr style=\"text-align: right;\">\n",
       "      <th></th>\n",
       "      <th>Date</th>\n",
       "      <th>Age</th>\n",
       "      <th>Workplace</th>\n",
       "      <th>Ocuppation</th>\n",
       "      <th>Annual_salary</th>\n",
       "      <th>Payment_currency</th>\n",
       "      <th>Work_country</th>\n",
       "      <th>American_work_state</th>\n",
       "      <th>Workplace_city</th>\n",
       "      <th>Overall_experience_years</th>\n",
       "      <th>Field_experience_years</th>\n",
       "      <th>Educational_level</th>\n",
       "      <th>Gender</th>\n",
       "      <th>Race/ethnicity</th>\n",
       "      <th>Hour</th>\n",
       "    </tr>\n",
       "  </thead>\n",
       "  <tbody>\n",
       "    <tr>\n",
       "      <th>171</th>\n",
       "      <td>2021-04-27</td>\n",
       "      <td>25-34</td>\n",
       "      <td>Government and public administration</td>\n",
       "      <td>Program Analyst</td>\n",
       "      <td>117500</td>\n",
       "      <td>USD</td>\n",
       "      <td>USA</td>\n",
       "      <td>NaN</td>\n",
       "      <td>Washington dc</td>\n",
       "      <td>8-10 years</td>\n",
       "      <td>5-7 years</td>\n",
       "      <td>Master's degree</td>\n",
       "      <td>NaN</td>\n",
       "      <td>Hispanic, Latino, or Spanish origin</td>\n",
       "      <td>11</td>\n",
       "    </tr>\n",
       "    <tr>\n",
       "      <th>490</th>\n",
       "      <td>2021-04-27</td>\n",
       "      <td>25-34</td>\n",
       "      <td>Hospitality &amp; events</td>\n",
       "      <td>Senior Manager</td>\n",
       "      <td>75000</td>\n",
       "      <td>USD</td>\n",
       "      <td>USA</td>\n",
       "      <td>California</td>\n",
       "      <td>Los angeles</td>\n",
       "      <td>5-7 years</td>\n",
       "      <td>5-7 years</td>\n",
       "      <td>College degree</td>\n",
       "      <td>NaN</td>\n",
       "      <td>White</td>\n",
       "      <td>11</td>\n",
       "    </tr>\n",
       "    <tr>\n",
       "      <th>537</th>\n",
       "      <td>2021-04-27</td>\n",
       "      <td>25-34</td>\n",
       "      <td>Education</td>\n",
       "      <td>Online Instructor</td>\n",
       "      <td>70000</td>\n",
       "      <td>CAD</td>\n",
       "      <td>Canada</td>\n",
       "      <td>NaN</td>\n",
       "      <td>Waterloo, on</td>\n",
       "      <td>5-7 years</td>\n",
       "      <td>5-7 years</td>\n",
       "      <td>Master's degree</td>\n",
       "      <td>NaN</td>\n",
       "      <td>White</td>\n",
       "      <td>11</td>\n",
       "    </tr>\n",
       "    <tr>\n",
       "      <th>647</th>\n",
       "      <td>2021-04-27</td>\n",
       "      <td>35-44</td>\n",
       "      <td>Media &amp; digital</td>\n",
       "      <td>Assistant Editor</td>\n",
       "      <td>40000</td>\n",
       "      <td>USD</td>\n",
       "      <td>USA</td>\n",
       "      <td>New Jersey</td>\n",
       "      <td>Philly 'burbs</td>\n",
       "      <td>11-20 years</td>\n",
       "      <td>11-20 years</td>\n",
       "      <td>College degree</td>\n",
       "      <td>NaN</td>\n",
       "      <td>White</td>\n",
       "      <td>11</td>\n",
       "    </tr>\n",
       "    <tr>\n",
       "      <th>658</th>\n",
       "      <td>2021-04-27</td>\n",
       "      <td>25-34</td>\n",
       "      <td>Nonprofits</td>\n",
       "      <td>Prospect Research Coordinator</td>\n",
       "      <td>65000</td>\n",
       "      <td>USD</td>\n",
       "      <td>USA</td>\n",
       "      <td>New Jersey</td>\n",
       "      <td>Newark</td>\n",
       "      <td>8-10 years</td>\n",
       "      <td>8-10 years</td>\n",
       "      <td>Master's degree</td>\n",
       "      <td>NaN</td>\n",
       "      <td>White</td>\n",
       "      <td>11</td>\n",
       "    </tr>\n",
       "    <tr>\n",
       "      <th>...</th>\n",
       "      <td>...</td>\n",
       "      <td>...</td>\n",
       "      <td>...</td>\n",
       "      <td>...</td>\n",
       "      <td>...</td>\n",
       "      <td>...</td>\n",
       "      <td>...</td>\n",
       "      <td>...</td>\n",
       "      <td>...</td>\n",
       "      <td>...</td>\n",
       "      <td>...</td>\n",
       "      <td>...</td>\n",
       "      <td>...</td>\n",
       "      <td>...</td>\n",
       "      <td>...</td>\n",
       "    </tr>\n",
       "    <tr>\n",
       "      <th>27289</th>\n",
       "      <td>2021-10-26</td>\n",
       "      <td>25-34</td>\n",
       "      <td>Energy</td>\n",
       "      <td>Pumper</td>\n",
       "      <td>70720</td>\n",
       "      <td>USD</td>\n",
       "      <td>USA</td>\n",
       "      <td>North Dakota</td>\n",
       "      <td>Fairfield</td>\n",
       "      <td>11-20 years</td>\n",
       "      <td>5-7 years</td>\n",
       "      <td>Some college</td>\n",
       "      <td>NaN</td>\n",
       "      <td>NaN</td>\n",
       "      <td>14</td>\n",
       "    </tr>\n",
       "    <tr>\n",
       "      <th>27327</th>\n",
       "      <td>2021-10-26</td>\n",
       "      <td>25-34</td>\n",
       "      <td>Business</td>\n",
       "      <td>Operationnal planning manager</td>\n",
       "      <td>33000</td>\n",
       "      <td>EUR</td>\n",
       "      <td>France</td>\n",
       "      <td>NaN</td>\n",
       "      <td>Paris</td>\n",
       "      <td>2-4 years</td>\n",
       "      <td>2-4 years</td>\n",
       "      <td>Master's degree</td>\n",
       "      <td>NaN</td>\n",
       "      <td>White</td>\n",
       "      <td>15</td>\n",
       "    </tr>\n",
       "    <tr>\n",
       "      <th>27339</th>\n",
       "      <td>2021-10-26</td>\n",
       "      <td>35-44</td>\n",
       "      <td>Engineering</td>\n",
       "      <td>Sr. Infrastructure Engineer</td>\n",
       "      <td>110000</td>\n",
       "      <td>USD</td>\n",
       "      <td>USA</td>\n",
       "      <td>North Carolina</td>\n",
       "      <td>Raleigh</td>\n",
       "      <td>8-10 years</td>\n",
       "      <td>8-10 years</td>\n",
       "      <td>College degree</td>\n",
       "      <td>NaN</td>\n",
       "      <td>White</td>\n",
       "      <td>16</td>\n",
       "    </tr>\n",
       "    <tr>\n",
       "      <th>27587</th>\n",
       "      <td>2021-12-28</td>\n",
       "      <td>35-44</td>\n",
       "      <td>Education</td>\n",
       "      <td>teacher</td>\n",
       "      <td>58000</td>\n",
       "      <td>EUR</td>\n",
       "      <td>Germany</td>\n",
       "      <td>NaN</td>\n",
       "      <td>Mannheim</td>\n",
       "      <td>21-30 years</td>\n",
       "      <td>5-7 years</td>\n",
       "      <td>Some college</td>\n",
       "      <td>NaN</td>\n",
       "      <td>NaN</td>\n",
       "      <td>16</td>\n",
       "    </tr>\n",
       "    <tr>\n",
       "      <th>27730</th>\n",
       "      <td>2022-03-27</td>\n",
       "      <td>18-24</td>\n",
       "      <td>Nan</td>\n",
       "      <td>chief executive official</td>\n",
       "      <td>50000</td>\n",
       "      <td>ZAR</td>\n",
       "      <td>Spain</td>\n",
       "      <td>NaN</td>\n",
       "      <td>Castellon</td>\n",
       "      <td>8-10 years</td>\n",
       "      <td>11-20 years</td>\n",
       "      <td>Some college</td>\n",
       "      <td>NaN</td>\n",
       "      <td>NaN</td>\n",
       "      <td>10</td>\n",
       "    </tr>\n",
       "  </tbody>\n",
       "</table>\n",
       "<p>165 rows × 15 columns</p>\n",
       "</div>"
      ],
      "text/plain": [
       "             Date    Age                             Workplace  \\\n",
       "171    2021-04-27  25-34  Government and public administration   \n",
       "490    2021-04-27  25-34                  Hospitality & events   \n",
       "537    2021-04-27  25-34                             Education   \n",
       "647    2021-04-27  35-44                       Media & digital   \n",
       "658    2021-04-27  25-34                            Nonprofits   \n",
       "...           ...    ...                                   ...   \n",
       "27289  2021-10-26  25-34                                Energy   \n",
       "27327  2021-10-26  25-34                              Business   \n",
       "27339  2021-10-26  35-44                           Engineering   \n",
       "27587  2021-12-28  35-44                             Education   \n",
       "27730  2022-03-27  18-24                                   Nan   \n",
       "\n",
       "                          Ocuppation Annual_salary Payment_currency  \\\n",
       "171                  Program Analyst        117500              USD   \n",
       "490                   Senior Manager         75000              USD   \n",
       "537                Online Instructor         70000              CAD   \n",
       "647                 Assistant Editor         40000              USD   \n",
       "658    Prospect Research Coordinator         65000              USD   \n",
       "...                              ...           ...              ...   \n",
       "27289                         Pumper         70720              USD   \n",
       "27327  Operationnal planning manager         33000              EUR   \n",
       "27339    Sr. Infrastructure Engineer        110000              USD   \n",
       "27587                        teacher         58000              EUR   \n",
       "27730       chief executive official         50000              ZAR   \n",
       "\n",
       "      Work_country American_work_state Workplace_city  \\\n",
       "171            USA                 NaN  Washington dc   \n",
       "490            USA          California    Los angeles   \n",
       "537         Canada                 NaN   Waterloo, on   \n",
       "647            USA          New Jersey  Philly 'burbs   \n",
       "658            USA          New Jersey         Newark   \n",
       "...            ...                 ...            ...   \n",
       "27289          USA        North Dakota      Fairfield   \n",
       "27327       France                 NaN          Paris   \n",
       "27339          USA      North Carolina        Raleigh   \n",
       "27587      Germany                 NaN       Mannheim   \n",
       "27730        Spain                 NaN      Castellon   \n",
       "\n",
       "      Overall_experience_years Field_experience_years Educational_level  \\\n",
       "171                 8-10 years              5-7 years   Master's degree   \n",
       "490                  5-7 years              5-7 years    College degree   \n",
       "537                  5-7 years              5-7 years   Master's degree   \n",
       "647                11-20 years            11-20 years    College degree   \n",
       "658                 8-10 years             8-10 years   Master's degree   \n",
       "...                        ...                    ...               ...   \n",
       "27289              11-20 years              5-7 years      Some college   \n",
       "27327                2-4 years              2-4 years   Master's degree   \n",
       "27339               8-10 years             8-10 years    College degree   \n",
       "27587              21-30 years              5-7 years      Some college   \n",
       "27730               8-10 years            11-20 years      Some college   \n",
       "\n",
       "      Gender                       Race/ethnicity  Hour  \n",
       "171      NaN  Hispanic, Latino, or Spanish origin    11  \n",
       "490      NaN                                White    11  \n",
       "537      NaN                                White    11  \n",
       "647      NaN                                White    11  \n",
       "658      NaN                                White    11  \n",
       "...      ...                                  ...   ...  \n",
       "27289    NaN                                  NaN    14  \n",
       "27327    NaN                                White    15  \n",
       "27339    NaN                                White    16  \n",
       "27587    NaN                                  NaN    16  \n",
       "27730    NaN                                  NaN    10  \n",
       "\n",
       "[165 rows x 15 columns]"
      ]
     },
     "execution_count": 395,
     "metadata": {},
     "output_type": "execute_result"
    }
   ],
   "source": [
    "table.loc[table.Gender.isna()]"
   ]
  },
  {
   "cell_type": "code",
   "execution_count": 387,
   "id": "ab3a2838",
   "metadata": {},
   "outputs": [
    {
     "data": {
      "text/plain": [
       "['Woman',\n",
       " 'Non-binary',\n",
       " 'Man',\n",
       " nan,\n",
       " 'Other or prefer not to answer',\n",
       " 'Prefer not to answer']"
      ]
     },
     "execution_count": 387,
     "metadata": {},
     "output_type": "execute_result"
    }
   ],
   "source": [
    "table.Gender.unique().tolist()"
   ]
  },
  {
   "cell_type": "code",
   "execution_count": 399,
   "id": "cc659687",
   "metadata": {},
   "outputs": [],
   "source": [
    "table.loc[table.Gender.isna(), 'Gender']='Prefer not to answer'\n",
    "table.loc[table.Gender == 'Other or prefer not to answer', 'Gender']='Prefer not to answer'\n"
   ]
  },
  {
   "cell_type": "code",
   "execution_count": 401,
   "id": "873af00f",
   "metadata": {},
   "outputs": [
    {
     "data": {
      "text/plain": [
       "['Woman', 'Non-binary', 'Man', 'Prefer not to answer']"
      ]
     },
     "execution_count": 401,
     "metadata": {},
     "output_type": "execute_result"
    }
   ],
   "source": [
    "table.Gender.unique().tolist()"
   ]
  },
  {
   "cell_type": "markdown",
   "id": "ee56b5e9",
   "metadata": {},
   "source": [
    "### Race/Ethnicity"
   ]
  },
  {
   "cell_type": "code",
   "execution_count": 402,
   "id": "0893084b",
   "metadata": {},
   "outputs": [
    {
     "data": {
      "text/plain": [
       "164"
      ]
     },
     "execution_count": 402,
     "metadata": {},
     "output_type": "execute_result"
    }
   ],
   "source": [
    "table['Race/ethnicity'].isna().sum()"
   ]
  },
  {
   "cell_type": "code",
   "execution_count": 403,
   "id": "8ac27045",
   "metadata": {
    "collapsed": true
   },
   "outputs": [
    {
     "data": {
      "text/html": [
       "<div>\n",
       "<style scoped>\n",
       "    .dataframe tbody tr th:only-of-type {\n",
       "        vertical-align: middle;\n",
       "    }\n",
       "\n",
       "    .dataframe tbody tr th {\n",
       "        vertical-align: top;\n",
       "    }\n",
       "\n",
       "    .dataframe thead th {\n",
       "        text-align: right;\n",
       "    }\n",
       "</style>\n",
       "<table border=\"1\" class=\"dataframe\">\n",
       "  <thead>\n",
       "    <tr style=\"text-align: right;\">\n",
       "      <th></th>\n",
       "      <th>Date</th>\n",
       "      <th>Age</th>\n",
       "      <th>Workplace</th>\n",
       "      <th>Ocuppation</th>\n",
       "      <th>Annual_salary</th>\n",
       "      <th>Payment_currency</th>\n",
       "      <th>Work_country</th>\n",
       "      <th>American_work_state</th>\n",
       "      <th>Workplace_city</th>\n",
       "      <th>Overall_experience_years</th>\n",
       "      <th>Field_experience_years</th>\n",
       "      <th>Educational_level</th>\n",
       "      <th>Gender</th>\n",
       "      <th>Race/ethnicity</th>\n",
       "      <th>Hour</th>\n",
       "    </tr>\n",
       "  </thead>\n",
       "  <tbody>\n",
       "    <tr>\n",
       "      <th>445</th>\n",
       "      <td>2021-04-27</td>\n",
       "      <td>25-34</td>\n",
       "      <td>Property</td>\n",
       "      <td>HR Manager</td>\n",
       "      <td>82400</td>\n",
       "      <td>USD</td>\n",
       "      <td>USA</td>\n",
       "      <td>Washington</td>\n",
       "      <td>Seattle</td>\n",
       "      <td>8-10 years</td>\n",
       "      <td>5-7 years</td>\n",
       "      <td>College degree</td>\n",
       "      <td>Woman</td>\n",
       "      <td>NaN</td>\n",
       "      <td>11</td>\n",
       "    </tr>\n",
       "    <tr>\n",
       "      <th>479</th>\n",
       "      <td>2021-04-27</td>\n",
       "      <td>25-34</td>\n",
       "      <td>Education</td>\n",
       "      <td>Finance assistant</td>\n",
       "      <td>37024</td>\n",
       "      <td>USD</td>\n",
       "      <td>USA</td>\n",
       "      <td>Michigan</td>\n",
       "      <td>Kalamazoo</td>\n",
       "      <td>5-7 years</td>\n",
       "      <td>2-4 years</td>\n",
       "      <td>PhD</td>\n",
       "      <td>Prefer not to answer</td>\n",
       "      <td>NaN</td>\n",
       "      <td>11</td>\n",
       "    </tr>\n",
       "    <tr>\n",
       "      <th>530</th>\n",
       "      <td>2021-04-27</td>\n",
       "      <td>25-34</td>\n",
       "      <td>Computing</td>\n",
       "      <td>Data Engineer</td>\n",
       "      <td>95000</td>\n",
       "      <td>USD</td>\n",
       "      <td>USA</td>\n",
       "      <td>Maryland</td>\n",
       "      <td>Baltimore</td>\n",
       "      <td>8-10 years</td>\n",
       "      <td>2-4 years</td>\n",
       "      <td>College degree</td>\n",
       "      <td>Man</td>\n",
       "      <td>NaN</td>\n",
       "      <td>11</td>\n",
       "    </tr>\n",
       "    <tr>\n",
       "      <th>773</th>\n",
       "      <td>2021-04-27</td>\n",
       "      <td>35-44</td>\n",
       "      <td>Education</td>\n",
       "      <td>Curriculum &amp; Teaching Specialist</td>\n",
       "      <td>40460</td>\n",
       "      <td>USD</td>\n",
       "      <td>USA</td>\n",
       "      <td>Arkansas</td>\n",
       "      <td>Fayetteville</td>\n",
       "      <td>11-20 years</td>\n",
       "      <td>8-10 years</td>\n",
       "      <td>Master's degree</td>\n",
       "      <td>Prefer not to answer</td>\n",
       "      <td>NaN</td>\n",
       "      <td>11</td>\n",
       "    </tr>\n",
       "    <tr>\n",
       "      <th>1159</th>\n",
       "      <td>2021-04-27</td>\n",
       "      <td>35-44</td>\n",
       "      <td>Government and public administration</td>\n",
       "      <td>Chief of Staff</td>\n",
       "      <td>102000</td>\n",
       "      <td>CAD</td>\n",
       "      <td>Canada</td>\n",
       "      <td>NaN</td>\n",
       "      <td>Ottawa</td>\n",
       "      <td>11-20 years</td>\n",
       "      <td>1 year or less</td>\n",
       "      <td>Some college</td>\n",
       "      <td>Woman</td>\n",
       "      <td>NaN</td>\n",
       "      <td>11</td>\n",
       "    </tr>\n",
       "    <tr>\n",
       "      <th>...</th>\n",
       "      <td>...</td>\n",
       "      <td>...</td>\n",
       "      <td>...</td>\n",
       "      <td>...</td>\n",
       "      <td>...</td>\n",
       "      <td>...</td>\n",
       "      <td>...</td>\n",
       "      <td>...</td>\n",
       "      <td>...</td>\n",
       "      <td>...</td>\n",
       "      <td>...</td>\n",
       "      <td>...</td>\n",
       "      <td>...</td>\n",
       "      <td>...</td>\n",
       "      <td>...</td>\n",
       "    </tr>\n",
       "    <tr>\n",
       "      <th>27599</th>\n",
       "      <td>2022-01-05</td>\n",
       "      <td>25-34</td>\n",
       "      <td>Health care</td>\n",
       "      <td>Director</td>\n",
       "      <td>120000</td>\n",
       "      <td>USD</td>\n",
       "      <td>USA</td>\n",
       "      <td>Georgia</td>\n",
       "      <td>Atlanta</td>\n",
       "      <td>5-7 years</td>\n",
       "      <td>5-7 years</td>\n",
       "      <td>PhD</td>\n",
       "      <td>Woman</td>\n",
       "      <td>NaN</td>\n",
       "      <td>18</td>\n",
       "    </tr>\n",
       "    <tr>\n",
       "      <th>27684</th>\n",
       "      <td>2022-02-25</td>\n",
       "      <td>35-44</td>\n",
       "      <td>Accounting, banking &amp; finance</td>\n",
       "      <td>Controller</td>\n",
       "      <td>150000</td>\n",
       "      <td>USD</td>\n",
       "      <td>USA</td>\n",
       "      <td>Texas</td>\n",
       "      <td>Austin</td>\n",
       "      <td>11-20 years</td>\n",
       "      <td>11-20 years</td>\n",
       "      <td>Master's degree</td>\n",
       "      <td>Woman</td>\n",
       "      <td>NaN</td>\n",
       "      <td>19</td>\n",
       "    </tr>\n",
       "    <tr>\n",
       "      <th>27725</th>\n",
       "      <td>2022-03-22</td>\n",
       "      <td>25-34</td>\n",
       "      <td>Engineering</td>\n",
       "      <td>R&amp;D Engineer</td>\n",
       "      <td>96000</td>\n",
       "      <td>USD</td>\n",
       "      <td>USA</td>\n",
       "      <td>California</td>\n",
       "      <td>Redwood city</td>\n",
       "      <td>2-4 years</td>\n",
       "      <td>1 year or less</td>\n",
       "      <td>Some college</td>\n",
       "      <td>Man</td>\n",
       "      <td>NaN</td>\n",
       "      <td>18</td>\n",
       "    </tr>\n",
       "    <tr>\n",
       "      <th>27730</th>\n",
       "      <td>2022-03-27</td>\n",
       "      <td>18-24</td>\n",
       "      <td>Nan</td>\n",
       "      <td>chief executive official</td>\n",
       "      <td>50000</td>\n",
       "      <td>ZAR</td>\n",
       "      <td>Spain</td>\n",
       "      <td>NaN</td>\n",
       "      <td>Castellon</td>\n",
       "      <td>8-10 years</td>\n",
       "      <td>11-20 years</td>\n",
       "      <td>Some college</td>\n",
       "      <td>Prefer not to answer</td>\n",
       "      <td>NaN</td>\n",
       "      <td>10</td>\n",
       "    </tr>\n",
       "    <tr>\n",
       "      <th>27732</th>\n",
       "      <td>2022-03-28</td>\n",
       "      <td>25-34</td>\n",
       "      <td>Marketing, advertising &amp; pr</td>\n",
       "      <td>Marketing Automation Analyst</td>\n",
       "      <td>6500</td>\n",
       "      <td>EUR</td>\n",
       "      <td>Bosnia and herzegovina</td>\n",
       "      <td>NaN</td>\n",
       "      <td>Banja luka</td>\n",
       "      <td>5-7 years</td>\n",
       "      <td>1 year or less</td>\n",
       "      <td>College degree</td>\n",
       "      <td>Woman</td>\n",
       "      <td>NaN</td>\n",
       "      <td>9</td>\n",
       "    </tr>\n",
       "  </tbody>\n",
       "</table>\n",
       "<p>164 rows × 15 columns</p>\n",
       "</div>"
      ],
      "text/plain": [
       "             Date    Age                             Workplace  \\\n",
       "445    2021-04-27  25-34                              Property   \n",
       "479    2021-04-27  25-34                             Education   \n",
       "530    2021-04-27  25-34                             Computing   \n",
       "773    2021-04-27  35-44                             Education   \n",
       "1159   2021-04-27  35-44  Government and public administration   \n",
       "...           ...    ...                                   ...   \n",
       "27599  2022-01-05  25-34                           Health care   \n",
       "27684  2022-02-25  35-44         Accounting, banking & finance   \n",
       "27725  2022-03-22  25-34                           Engineering   \n",
       "27730  2022-03-27  18-24                                   Nan   \n",
       "27732  2022-03-28  25-34           Marketing, advertising & pr   \n",
       "\n",
       "                             Ocuppation Annual_salary Payment_currency  \\\n",
       "445                          HR Manager         82400              USD   \n",
       "479                   Finance assistant         37024              USD   \n",
       "530                       Data Engineer         95000              USD   \n",
       "773    Curriculum & Teaching Specialist         40460              USD   \n",
       "1159                     Chief of Staff        102000              CAD   \n",
       "...                                 ...           ...              ...   \n",
       "27599                          Director        120000              USD   \n",
       "27684                        Controller        150000              USD   \n",
       "27725                      R&D Engineer         96000              USD   \n",
       "27730          chief executive official         50000              ZAR   \n",
       "27732      Marketing Automation Analyst          6500              EUR   \n",
       "\n",
       "                 Work_country American_work_state Workplace_city  \\\n",
       "445                       USA          Washington        Seattle   \n",
       "479                       USA            Michigan      Kalamazoo   \n",
       "530                       USA            Maryland      Baltimore   \n",
       "773                       USA            Arkansas   Fayetteville   \n",
       "1159                   Canada                 NaN         Ottawa   \n",
       "...                       ...                 ...            ...   \n",
       "27599                     USA             Georgia        Atlanta   \n",
       "27684                     USA               Texas         Austin   \n",
       "27725                     USA          California   Redwood city   \n",
       "27730                   Spain                 NaN      Castellon   \n",
       "27732  Bosnia and herzegovina                 NaN     Banja luka   \n",
       "\n",
       "      Overall_experience_years Field_experience_years Educational_level  \\\n",
       "445                 8-10 years              5-7 years    College degree   \n",
       "479                  5-7 years              2-4 years               PhD   \n",
       "530                 8-10 years              2-4 years    College degree   \n",
       "773                11-20 years             8-10 years   Master's degree   \n",
       "1159               11-20 years         1 year or less      Some college   \n",
       "...                        ...                    ...               ...   \n",
       "27599                5-7 years              5-7 years               PhD   \n",
       "27684              11-20 years            11-20 years   Master's degree   \n",
       "27725                2-4 years         1 year or less      Some college   \n",
       "27730               8-10 years            11-20 years      Some college   \n",
       "27732                5-7 years         1 year or less    College degree   \n",
       "\n",
       "                     Gender Race/ethnicity  Hour  \n",
       "445                   Woman            NaN    11  \n",
       "479    Prefer not to answer            NaN    11  \n",
       "530                     Man            NaN    11  \n",
       "773    Prefer not to answer            NaN    11  \n",
       "1159                  Woman            NaN    11  \n",
       "...                     ...            ...   ...  \n",
       "27599                 Woman            NaN    18  \n",
       "27684                 Woman            NaN    19  \n",
       "27725                   Man            NaN    18  \n",
       "27730  Prefer not to answer            NaN    10  \n",
       "27732                 Woman            NaN     9  \n",
       "\n",
       "[164 rows x 15 columns]"
      ]
     },
     "execution_count": 403,
     "metadata": {},
     "output_type": "execute_result"
    }
   ],
   "source": [
    "table.loc[table['Race/ethnicity'].isna()]"
   ]
  },
  {
   "cell_type": "code",
   "execution_count": 404,
   "id": "74937522",
   "metadata": {
    "collapsed": true
   },
   "outputs": [
    {
     "data": {
      "text/plain": [
       "['White',\n",
       " 'Hispanic, Latino, or Spanish origin, White',\n",
       " 'Asian or Asian American, White',\n",
       " 'Asian or Asian American',\n",
       " 'Another option not listed here or prefer not to answer',\n",
       " 'Hispanic, Latino, or Spanish origin',\n",
       " 'Middle Eastern or Northern African',\n",
       " 'Hispanic, Latino, or Spanish origin, Middle Eastern or Northern African, White',\n",
       " 'Black or African American',\n",
       " 'Black or African American, White',\n",
       " nan,\n",
       " 'Black or African American, Hispanic, Latino, or Spanish origin, White',\n",
       " 'Native American or Alaska Native',\n",
       " 'Native American or Alaska Native, White',\n",
       " 'Hispanic, Latino, or Spanish origin, Another option not listed here or prefer not to answer',\n",
       " 'Black or African American, Middle Eastern or Northern African, Native American or Alaska Native, White',\n",
       " 'White, Another option not listed here or prefer not to answer',\n",
       " 'Black or African American, Native American or Alaska Native, White',\n",
       " 'Asian or Asian American, Another option not listed here or prefer not to answer',\n",
       " 'Middle Eastern or Northern African, White',\n",
       " 'Asian or Asian American, Black or African American, White',\n",
       " 'Black or African American, Hispanic, Latino, or Spanish origin',\n",
       " 'Asian or Asian American, Black or African American',\n",
       " 'Asian or Asian American, Hispanic, Latino, or Spanish origin, White',\n",
       " 'Native American or Alaska Native, White, Another option not listed here or prefer not to answer',\n",
       " 'Asian or Asian American, Hispanic, Latino, or Spanish origin',\n",
       " 'Asian or Asian American, Native American or Alaska Native, White',\n",
       " 'Hispanic, Latino, or Spanish origin, Native American or Alaska Native',\n",
       " 'Black or African American, Middle Eastern or Northern African, White',\n",
       " 'Black or African American, Hispanic, Latino, or Spanish origin, Native American or Alaska Native, White',\n",
       " 'Black or African American, Another option not listed here or prefer not to answer',\n",
       " 'Native American or Alaska Native, Another option not listed here or prefer not to answer',\n",
       " 'Asian or Asian American, White, Another option not listed here or prefer not to answer',\n",
       " 'Asian or Asian American, Middle Eastern or Northern African',\n",
       " 'Asian or Asian American, Hispanic, Latino, or Spanish origin, Native American or Alaska Native, White',\n",
       " 'Hispanic, Latino, or Spanish origin, Middle Eastern or Northern African',\n",
       " 'Hispanic, Latino, or Spanish origin, Native American or Alaska Native, White',\n",
       " 'Middle Eastern or Northern African, White, Another option not listed here or prefer not to answer',\n",
       " 'Hispanic, Latino, or Spanish origin, White, Another option not listed here or prefer not to answer',\n",
       " 'Asian or Asian American, Black or African American, Hispanic, Latino, or Spanish origin',\n",
       " 'Asian or Asian American, Black or African American, Native American or Alaska Native, White',\n",
       " 'Middle Eastern or Northern African, Native American or Alaska Native, White',\n",
       " 'Asian or Asian American, Middle Eastern or Northern African, White',\n",
       " 'Black or African American, Middle Eastern or Northern African',\n",
       " 'Hispanic, Latino, or Spanish origin, Native American or Alaska Native, Another option not listed here or prefer not to answer',\n",
       " 'Asian or Asian American, Native American or Alaska Native',\n",
       " 'Middle Eastern or Northern African, Native American or Alaska Native',\n",
       " 'Asian or Asian American, Hispanic, Latino, or Spanish origin, Another option not listed here or prefer not to answer',\n",
       " 'Asian or Asian American, Hispanic, Latino, or Spanish origin, White, Another option not listed here or prefer not to answer']"
      ]
     },
     "execution_count": 404,
     "metadata": {},
     "output_type": "execute_result"
    }
   ],
   "source": [
    "table['Race/ethnicity'].unique().tolist()"
   ]
  },
  {
   "cell_type": "code",
   "execution_count": 405,
   "id": "d8a438cb",
   "metadata": {},
   "outputs": [
    {
     "data": {
      "text/plain": [
       "49"
      ]
     },
     "execution_count": 405,
     "metadata": {},
     "output_type": "execute_result"
    }
   ],
   "source": [
    "len(table['Race/ethnicity'].unique().tolist())"
   ]
  },
  {
   "cell_type": "markdown",
   "id": "b28b8c8a",
   "metadata": {},
   "source": [
    "Due to problems to identify each human been , I prefeer to skip the cleaning."
   ]
  },
  {
   "cell_type": "code",
   "execution_count": 441,
   "id": "ef81ced6",
   "metadata": {},
   "outputs": [],
   "source": [
    "Data_clean=table"
   ]
  },
  {
   "cell_type": "code",
   "execution_count": 442,
   "id": "babe0016",
   "metadata": {},
   "outputs": [],
   "source": [
    "Data_clean.to_csv('Data_clean')"
   ]
  }
 ],
 "metadata": {
  "kernelspec": {
   "display_name": "Python 3 (ipykernel)",
   "language": "python",
   "name": "python3"
  },
  "language_info": {
   "codemirror_mode": {
    "name": "ipython",
    "version": 3
   },
   "file_extension": ".py",
   "mimetype": "text/x-python",
   "name": "python",
   "nbconvert_exporter": "python",
   "pygments_lexer": "ipython3",
   "version": "3.10.3"
  }
 },
 "nbformat": 4,
 "nbformat_minor": 5
}
